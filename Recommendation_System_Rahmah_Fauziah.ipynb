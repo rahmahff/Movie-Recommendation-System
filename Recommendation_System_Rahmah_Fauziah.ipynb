{
  "nbformat": 4,
  "nbformat_minor": 0,
  "metadata": {
    "colab": {
      "provenance": [],
      "gpuType": "T4"
    },
    "kernelspec": {
      "name": "python3",
      "display_name": "Python 3"
    },
    "language_info": {
      "name": "python"
    },
    "accelerator": "GPU"
  },
  "cells": [
    {
      "cell_type": "markdown",
      "source": [
        "# **Project Movie Recommendation System**\n",
        "**Nama:** Rahmah Fauziah\n",
        "\n",
        "**ID:** MC299D5X1751\n",
        "\n",
        "**Dataset yang digunakan:** https://www.kaggle.com/datasets/parasharmanas/movie-recommendation-system"
      ],
      "metadata": {
        "id": "QirfLzgyOoIV"
      }
    },
    {
      "cell_type": "markdown",
      "source": [
        "## **Data Understanding**\n",
        "Tahap ini dilakukan untuk memahami informasi dari data yang dimiliki."
      ],
      "metadata": {
        "id": "QINtFJ2MPAN-"
      }
    },
    {
      "cell_type": "markdown",
      "source": [
        "Pada tahap ini melakukan import library yang akan digunakan meliputi pandas, TfidfVectorizer, dan cosine_similarity."
      ],
      "metadata": {
        "id": "JuAcFWmibbWj"
      }
    },
    {
      "cell_type": "code",
      "source": [
        "# Import library\n",
        "import pandas as pd\n",
        "from sklearn.feature_extraction.text import TfidfVectorizer\n",
        "from sklearn.metrics.pairwise import cosine_similarity"
      ],
      "metadata": {
        "id": "l8nVuTj6qo0u"
      },
      "execution_count": 41,
      "outputs": []
    },
    {
      "cell_type": "markdown",
      "source": [
        "Import module yang disediakan google colab untuk kebutuhan upload file `kaggle.json`."
      ],
      "metadata": {
        "id": "HMdV6SAdUbHz"
      }
    },
    {
      "cell_type": "code",
      "execution_count": null,
      "metadata": {
        "colab": {
          "base_uri": "https://localhost:8080/",
          "height": 36
        },
        "id": "Zw9tWcWnOmHV",
        "outputId": "af915993-efc6-4367-dcc4-734399e356ed"
      },
      "outputs": [
        {
          "output_type": "display_data",
          "data": {
            "text/plain": [
              "<IPython.core.display.HTML object>"
            ],
            "text/html": [
              "\n",
              "     <input type=\"file\" id=\"files-557d79da-dbab-473c-99bf-ffaf76b55f70\" name=\"files[]\" multiple disabled\n",
              "        style=\"border:none\" />\n",
              "     <output id=\"result-557d79da-dbab-473c-99bf-ffaf76b55f70\">\n",
              "      Upload widget is only available when the cell has been executed in the\n",
              "      current browser session. Please rerun this cell to enable.\n",
              "      </output>\n",
              "      <script>// Copyright 2017 Google LLC\n",
              "//\n",
              "// Licensed under the Apache License, Version 2.0 (the \"License\");\n",
              "// you may not use this file except in compliance with the License.\n",
              "// You may obtain a copy of the License at\n",
              "//\n",
              "//      http://www.apache.org/licenses/LICENSE-2.0\n",
              "//\n",
              "// Unless required by applicable law or agreed to in writing, software\n",
              "// distributed under the License is distributed on an \"AS IS\" BASIS,\n",
              "// WITHOUT WARRANTIES OR CONDITIONS OF ANY KIND, either express or implied.\n",
              "// See the License for the specific language governing permissions and\n",
              "// limitations under the License.\n",
              "\n",
              "/**\n",
              " * @fileoverview Helpers for google.colab Python module.\n",
              " */\n",
              "(function(scope) {\n",
              "function span(text, styleAttributes = {}) {\n",
              "  const element = document.createElement('span');\n",
              "  element.textContent = text;\n",
              "  for (const key of Object.keys(styleAttributes)) {\n",
              "    element.style[key] = styleAttributes[key];\n",
              "  }\n",
              "  return element;\n",
              "}\n",
              "\n",
              "// Max number of bytes which will be uploaded at a time.\n",
              "const MAX_PAYLOAD_SIZE = 100 * 1024;\n",
              "\n",
              "function _uploadFiles(inputId, outputId) {\n",
              "  const steps = uploadFilesStep(inputId, outputId);\n",
              "  const outputElement = document.getElementById(outputId);\n",
              "  // Cache steps on the outputElement to make it available for the next call\n",
              "  // to uploadFilesContinue from Python.\n",
              "  outputElement.steps = steps;\n",
              "\n",
              "  return _uploadFilesContinue(outputId);\n",
              "}\n",
              "\n",
              "// This is roughly an async generator (not supported in the browser yet),\n",
              "// where there are multiple asynchronous steps and the Python side is going\n",
              "// to poll for completion of each step.\n",
              "// This uses a Promise to block the python side on completion of each step,\n",
              "// then passes the result of the previous step as the input to the next step.\n",
              "function _uploadFilesContinue(outputId) {\n",
              "  const outputElement = document.getElementById(outputId);\n",
              "  const steps = outputElement.steps;\n",
              "\n",
              "  const next = steps.next(outputElement.lastPromiseValue);\n",
              "  return Promise.resolve(next.value.promise).then((value) => {\n",
              "    // Cache the last promise value to make it available to the next\n",
              "    // step of the generator.\n",
              "    outputElement.lastPromiseValue = value;\n",
              "    return next.value.response;\n",
              "  });\n",
              "}\n",
              "\n",
              "/**\n",
              " * Generator function which is called between each async step of the upload\n",
              " * process.\n",
              " * @param {string} inputId Element ID of the input file picker element.\n",
              " * @param {string} outputId Element ID of the output display.\n",
              " * @return {!Iterable<!Object>} Iterable of next steps.\n",
              " */\n",
              "function* uploadFilesStep(inputId, outputId) {\n",
              "  const inputElement = document.getElementById(inputId);\n",
              "  inputElement.disabled = false;\n",
              "\n",
              "  const outputElement = document.getElementById(outputId);\n",
              "  outputElement.innerHTML = '';\n",
              "\n",
              "  const pickedPromise = new Promise((resolve) => {\n",
              "    inputElement.addEventListener('change', (e) => {\n",
              "      resolve(e.target.files);\n",
              "    });\n",
              "  });\n",
              "\n",
              "  const cancel = document.createElement('button');\n",
              "  inputElement.parentElement.appendChild(cancel);\n",
              "  cancel.textContent = 'Cancel upload';\n",
              "  const cancelPromise = new Promise((resolve) => {\n",
              "    cancel.onclick = () => {\n",
              "      resolve(null);\n",
              "    };\n",
              "  });\n",
              "\n",
              "  // Wait for the user to pick the files.\n",
              "  const files = yield {\n",
              "    promise: Promise.race([pickedPromise, cancelPromise]),\n",
              "    response: {\n",
              "      action: 'starting',\n",
              "    }\n",
              "  };\n",
              "\n",
              "  cancel.remove();\n",
              "\n",
              "  // Disable the input element since further picks are not allowed.\n",
              "  inputElement.disabled = true;\n",
              "\n",
              "  if (!files) {\n",
              "    return {\n",
              "      response: {\n",
              "        action: 'complete',\n",
              "      }\n",
              "    };\n",
              "  }\n",
              "\n",
              "  for (const file of files) {\n",
              "    const li = document.createElement('li');\n",
              "    li.append(span(file.name, {fontWeight: 'bold'}));\n",
              "    li.append(span(\n",
              "        `(${file.type || 'n/a'}) - ${file.size} bytes, ` +\n",
              "        `last modified: ${\n",
              "            file.lastModifiedDate ? file.lastModifiedDate.toLocaleDateString() :\n",
              "                                    'n/a'} - `));\n",
              "    const percent = span('0% done');\n",
              "    li.appendChild(percent);\n",
              "\n",
              "    outputElement.appendChild(li);\n",
              "\n",
              "    const fileDataPromise = new Promise((resolve) => {\n",
              "      const reader = new FileReader();\n",
              "      reader.onload = (e) => {\n",
              "        resolve(e.target.result);\n",
              "      };\n",
              "      reader.readAsArrayBuffer(file);\n",
              "    });\n",
              "    // Wait for the data to be ready.\n",
              "    let fileData = yield {\n",
              "      promise: fileDataPromise,\n",
              "      response: {\n",
              "        action: 'continue',\n",
              "      }\n",
              "    };\n",
              "\n",
              "    // Use a chunked sending to avoid message size limits. See b/62115660.\n",
              "    let position = 0;\n",
              "    do {\n",
              "      const length = Math.min(fileData.byteLength - position, MAX_PAYLOAD_SIZE);\n",
              "      const chunk = new Uint8Array(fileData, position, length);\n",
              "      position += length;\n",
              "\n",
              "      const base64 = btoa(String.fromCharCode.apply(null, chunk));\n",
              "      yield {\n",
              "        response: {\n",
              "          action: 'append',\n",
              "          file: file.name,\n",
              "          data: base64,\n",
              "        },\n",
              "      };\n",
              "\n",
              "      let percentDone = fileData.byteLength === 0 ?\n",
              "          100 :\n",
              "          Math.round((position / fileData.byteLength) * 100);\n",
              "      percent.textContent = `${percentDone}% done`;\n",
              "\n",
              "    } while (position < fileData.byteLength);\n",
              "  }\n",
              "\n",
              "  // All done.\n",
              "  yield {\n",
              "    response: {\n",
              "      action: 'complete',\n",
              "    }\n",
              "  };\n",
              "}\n",
              "\n",
              "scope.google = scope.google || {};\n",
              "scope.google.colab = scope.google.colab || {};\n",
              "scope.google.colab._files = {\n",
              "  _uploadFiles,\n",
              "  _uploadFilesContinue,\n",
              "};\n",
              "})(self);\n",
              "</script> "
            ]
          },
          "metadata": {}
        }
      ],
      "source": [
        "# Import module yang disediakan google colab untuk kebutuhan upload file\n",
        "from google.colab import files\n",
        "files.upload()"
      ]
    },
    {
      "cell_type": "markdown",
      "source": [
        "Tahapan di bawah untuk mengelola kredensial API Kaggle supaya bisa melakukan download dataset dari Kaggle."
      ],
      "metadata": {
        "id": "7XCE_XjNcBR7"
      }
    },
    {
      "cell_type": "code",
      "source": [
        "!mkdir -p ~/.kaggle\n",
        "!cp kaggle.json ~/.kaggle/\n",
        "!chmod 600 ~/.kaggle/kaggle.json"
      ],
      "metadata": {
        "id": "X9Ok9MSFRkO7"
      },
      "execution_count": null,
      "outputs": []
    },
    {
      "cell_type": "markdown",
      "source": [
        "Melakukan download dataset yang berasal dari Kaggle dan melakukan unzip file."
      ],
      "metadata": {
        "id": "nVPYU5gPUfP0"
      }
    },
    {
      "cell_type": "code",
      "source": [
        "!kaggle datasets download -d parasharmanas/movie-recommendation-system\n",
        "!unzip movie-recommendation-system.zip"
      ],
      "metadata": {
        "id": "AFHcMitlRpfk"
      },
      "execution_count": null,
      "outputs": []
    },
    {
      "cell_type": "markdown",
      "source": [
        "**Output:** diketahui bahwa terdapat 2 file csv yaitu movies.csv dan ratings.csv."
      ],
      "metadata": {
        "id": "5dVqh9TyUqAK"
      }
    },
    {
      "cell_type": "markdown",
      "source": [
        "Melakukan pembacaan data-data dengan menggunakan fungsi `pandas.read_csv`."
      ],
      "metadata": {
        "id": "XayS_EUpU5C7"
      }
    },
    {
      "cell_type": "code",
      "source": [
        "movies = pd.read_csv('/content/movies.csv')\n",
        "ratings = pd.read_csv('/content/ratings.csv')\n",
        "\n",
        "print('Jumlah data informasi film unik: ', len(movies['movieId'].unique()))\n",
        "print('Jumlah data informasi pengguna unik: ', len(ratings['userId'].unique()))"
      ],
      "metadata": {
        "id": "ocAfeOrCSNtJ"
      },
      "execution_count": null,
      "outputs": []
    },
    {
      "cell_type": "markdown",
      "source": [
        "**Output:** menunjukkan jumlah data pada masing-masing file csv dengan mengambil sampel berdasarkan kolom unik yaitu `movieId` dan `userId`. Untuk file `movies.csv` jumlah data terkait informasi film unik berdasarkan `movieId` sebanyak 62423. Untuk `ratings.csv` menurut `userId` jumlahnya sebesar 162541."
      ],
      "metadata": {
        "id": "hN_MfGPxVaMf"
      }
    },
    {
      "cell_type": "markdown",
      "source": [
        "## **Exploratory Data Analysis**\n",
        "Tahap ini dilakukan untuk mengetahui investigasi awal untuk melakukan analisis karakteristik dari dataset."
      ],
      "metadata": {
        "id": "IbCTzuH9U-Zi"
      }
    },
    {
      "cell_type": "markdown",
      "source": [
        "### **Univariate Analysis**\n",
        "Tahapan ini untuk melakukan analisis dan eksplorasi setiap variabel pada data. Adapun variabel nya meliputi 2 macam yaitu movies dan ratings.\n",
        "\n",
        "movies: merupakan data yang berisikan informasi terkait film yang meliputi kolom movieId, title, dan genres.\n",
        "\n",
        "ratings: merupakan data rating dari film berisikan kolom userId, movieId, rating, dan timestamp."
      ],
      "metadata": {
        "id": "tPSo0HRXHl8P"
      }
    },
    {
      "cell_type": "markdown",
      "source": [
        "#### **Movies Variabel**\n",
        "Melakukan eksplorasi pada variabel movies yaitu informasi terkait film."
      ],
      "metadata": {
        "id": "XkMjj7FMWpcd"
      }
    },
    {
      "cell_type": "markdown",
      "source": [
        "Pada tahap ini untuk mengetahui tipe data setiap kolom serta jumlah entri non-null pada variabel movies."
      ],
      "metadata": {
        "id": "SZVAhb79jg2y"
      }
    },
    {
      "cell_type": "code",
      "source": [
        "movies.info()"
      ],
      "metadata": {
        "id": "q7-mgyCuWtny"
      },
      "execution_count": null,
      "outputs": []
    },
    {
      "cell_type": "markdown",
      "source": [
        "**Output:** dapat diketahui bahwa file movies.csv memiliki 62423 entri dan 3 kolom. Terdapat tiga kolom, yaitu movieId, title, dan genres.\n",
        "- movieId merupakan Id film yang bertipe data `int64`.\n",
        "- title merupakan judul film yang memiliki tipe data `object`.\n",
        "- genres merupakan genre pada film yang memiliki tipe data `object`."
      ],
      "metadata": {
        "id": "r18NWwyqjkZp"
      }
    },
    {
      "cell_type": "markdown",
      "source": [
        "Pada tahap di bawah ini untuk melakukan eksplorasi isi kolom pada data movies melalui fungsi `head()` dengan menampilkan lima baris pertama."
      ],
      "metadata": {
        "id": "5JBRISChkwFu"
      }
    },
    {
      "cell_type": "code",
      "source": [
        "movies.head()"
      ],
      "metadata": {
        "id": "QUxQkGb9XDFj"
      },
      "execution_count": null,
      "outputs": []
    },
    {
      "cell_type": "markdown",
      "source": [
        "**Output:** menampilkan tiga kolom yaitu movieId, title, dan genres yang berisikan data setiap kolom. Untuk movieId berisikan data nilai unik setiap film, title berisikan judul film dilengkapi dengan tahun perilisannya, dan genres berisikan macam-macam genre dari film dengan dipisahkan oleh tanda `(|)`."
      ],
      "metadata": {
        "id": "Bqxr-tSukV91"
      }
    },
    {
      "cell_type": "markdown",
      "source": [
        "#### **Ratings Variabel**\n",
        "Melakukan eksplorasi pada variabel ratings yaitu informasi terkait rating pada film."
      ],
      "metadata": {
        "id": "KbCQk7sGXnFy"
      }
    },
    {
      "cell_type": "markdown",
      "source": [
        "Pada tahap ini untuk mengetahui tipe data setiap kolom serta jumlah entri non-null pada variabel ratings."
      ],
      "metadata": {
        "id": "aC_XbXpLmG30"
      }
    },
    {
      "cell_type": "code",
      "source": [
        "ratings.info()"
      ],
      "metadata": {
        "id": "Frbxj1xiiM1L"
      },
      "execution_count": null,
      "outputs": []
    },
    {
      "cell_type": "markdown",
      "source": [
        "Output: diketahui bahwa file ratings.csv memiliki 25000095 baris dan 4 kolom. Terdapat empat kolom, yaitu userId, movieId, rating, dan timestamp.\n",
        "- userId merupakan Id pengguna yang bertipe data `int64`.\n",
        "- movieId merupakan Id film bertipe data `int64`.\n",
        "- rating merupakan nilai rating film yang bertipe data `float64`.\n",
        "- timestamp merupakan waktu pemberian rating yang bertipe data `int64`."
      ],
      "metadata": {
        "id": "X0mDN6YNmKqB"
      }
    },
    {
      "cell_type": "markdown",
      "source": [
        "Pada tahap di bawah ini untuk melakukan eksplorasi isi kolom pada data ratings melalui fungsi `head()` dengan menampilkan lima baris pertama."
      ],
      "metadata": {
        "id": "Qo8H7V1dnkrN"
      }
    },
    {
      "cell_type": "code",
      "source": [
        "ratings.head()"
      ],
      "metadata": {
        "id": "LTHwzVIOXo8L"
      },
      "execution_count": null,
      "outputs": []
    },
    {
      "cell_type": "markdown",
      "source": [
        "Output: menampilkan empat kolom yaitu userId, movieId, rating, dan timestamp yang berisikan data setiap kolom. Untuk userId berisikan data nilai unik pengguna, movieId berisikan data nilai unik setiap film, rating berisikan nilai rating yang diberikan pengguna, dan timestamp berisikan waktu pemberian rating."
      ],
      "metadata": {
        "id": "ffnotLkdntJx"
      }
    },
    {
      "cell_type": "markdown",
      "source": [
        "Pada tahap ini untuk mengecek deskripsi statistik data ratings dengan fungsi `describe()`. Fungsi describe() memberikan informasi statistik pada masing-masing kolom, antara lain:\n",
        "- Count  adalah jumlah sampel pada data.\n",
        "- Mean adalah nilai rata-rata.\n",
        "- Std adalah standar deviasi.\n",
        "- Min yaitu nilai minimum setiap kolom.\n",
        "- 25% adalah kuartil pertama. Kuartil adalah nilai yang menandai batas interval dalam empat bagian sebaran yang sama.\n",
        "- 50% adalah kuartil kedua, atau biasa juga disebut median (nilai tengah).\n",
        "- 75% adalah kuartil ketiga.\n",
        "- Max adalah nilai maksimum."
      ],
      "metadata": {
        "id": "dR0tRQ0KoEpQ"
      }
    },
    {
      "cell_type": "code",
      "source": [
        "ratings.describe()"
      ],
      "metadata": {
        "id": "QAT-hMBvX0Bt"
      },
      "execution_count": null,
      "outputs": []
    },
    {
      "cell_type": "markdown",
      "source": [
        "**Output:** diketahui bahwa nilai maksimum rating adalah 5 dan nilai minimum adalah 0,5. Untuk rata-rata pemberian rating oleh pengguna berada di kisaran 3,5. Hal ini menunjukkan bahwa pengguna memberikan rating yang cukup tinggi untuk film nya. Jumlah pengguna dan film memiliki nilai maksimum 1.625410e+05 dan  dan 2.091710e+05 dan nilai minimum adalah 1.000000e+00."
      ],
      "metadata": {
        "id": "Jruob9CJoU-I"
      }
    },
    {
      "cell_type": "markdown",
      "source": [
        "Tahapan ini untuk meninjau banyaknya pengguna yang memberikan rating dan banyaknya jumlah rating."
      ],
      "metadata": {
        "id": "lBkRgOK2pKsT"
      }
    },
    {
      "cell_type": "code",
      "source": [
        "print('Jumlah userId: ', len(ratings['userId'].unique()))\n",
        "print('Jumlah data rating: ', len(ratings))"
      ],
      "metadata": {
        "id": "A5OXfs6fYM_U"
      },
      "execution_count": null,
      "outputs": []
    },
    {
      "cell_type": "markdown",
      "source": [
        "**Output:** diketahui bahwa jumlah pengguna yang memberikan rating berdasarkan kolom unik yaitu `userId` sebanyak 162541 sedangkan untuk jumlah rating sebanyak 25000095."
      ],
      "metadata": {
        "id": "J-fAx0yhpROV"
      }
    },
    {
      "cell_type": "markdown",
      "source": [
        "### **Pengecekan nilai missing value**\n",
        "Tahap ini untuk melakukan pengecekan terhadap kolom data movies dan ratings apakah memiliki nilai missing values."
      ],
      "metadata": {
        "id": "2mM0sV-844V4"
      }
    },
    {
      "cell_type": "code",
      "source": [
        "# Cek missing value dengan fungsi isnull()\n",
        "movies.isnull().sum()"
      ],
      "metadata": {
        "id": "OzjgFp1U5GGM"
      },
      "execution_count": null,
      "outputs": []
    },
    {
      "cell_type": "code",
      "source": [
        "# Cek missing value dengan fungsi isnull()\n",
        "ratings.isnull().sum()"
      ],
      "metadata": {
        "id": "wg-R7cr85OEv"
      },
      "execution_count": null,
      "outputs": []
    },
    {
      "cell_type": "markdown",
      "source": [
        "**Output:** diketahui bahwa pada data movies dan ratings setiap kolomnya tidak memiliki nilai missing value sehingga menghasilkan keluaran 0."
      ],
      "metadata": {
        "id": "5mJKrl835SOP"
      }
    },
    {
      "cell_type": "markdown",
      "source": [
        "### **Pengecekan duplikasi data**\n",
        "Melakukan identifikasi pada data movies dan ratings apakah terdapat baris yang memiliki duplikasi."
      ],
      "metadata": {
        "id": "UlMHrIeS5bnL"
      }
    },
    {
      "cell_type": "code",
      "source": [
        "# Mengidentifikasi baris duplikat\n",
        "duplicates = movies.duplicated()\n",
        "\n",
        "print(\"Baris duplikat:\")\n",
        "print(movies[duplicates])"
      ],
      "metadata": {
        "id": "MT79enRA5kxo"
      },
      "execution_count": null,
      "outputs": []
    },
    {
      "cell_type": "code",
      "source": [
        "# Mengidentifikasi baris duplikat\n",
        "duplicates = ratings.duplicated()\n",
        "\n",
        "print(\"Baris duplikat:\")\n",
        "print(ratings[duplicates])"
      ],
      "metadata": {
        "id": "MIH6Iq5e5mpm"
      },
      "execution_count": null,
      "outputs": []
    },
    {
      "cell_type": "markdown",
      "source": [
        "**Output:** diketahui bahwa tidak ada baris yang memiliki duplikasi pada data movies dan ratings ditunjukkan dengan keluaran Baris duplikat: Empty DataFrame."
      ],
      "metadata": {
        "id": "dhtUL5QI5t_u"
      }
    },
    {
      "cell_type": "markdown",
      "source": [
        "## **Data Preparation**\n",
        "Tahapan ini adalah tahapan untuk mempersiapkan data sebelum tahap modelling."
      ],
      "metadata": {
        "id": "hfwsXj8Cwz_P"
      }
    },
    {
      "cell_type": "markdown",
      "source": [
        "Pada tahap ini melakukan perubahan tipe data timestamp menjadi datetime melalui fungsi `pd.to_datetime`."
      ],
      "metadata": {
        "id": "_H3mkXpN56pn"
      }
    },
    {
      "cell_type": "code",
      "source": [
        "ratings['timestamp'] = pd.to_datetime(ratings['timestamp'], unit='s')\n",
        "ratings.head()"
      ],
      "metadata": {
        "id": "V_nyGsoO54Cd"
      },
      "execution_count": null,
      "outputs": []
    },
    {
      "cell_type": "markdown",
      "source": [
        "**Output:** menampilkan hasil perubahan data pada kolom timestamp menjadi bentuk datetime."
      ],
      "metadata": {
        "id": "9_bA_eDU5_UK"
      }
    },
    {
      "cell_type": "markdown",
      "source": [
        "Tahapan ini untuk melakukan penggabungan data ratings dengan movies berdasarkan nilai movieId."
      ],
      "metadata": {
        "id": "SsnCKOBd9KQd"
      }
    },
    {
      "cell_type": "code",
      "source": [
        "# Menggabungkan dataframe ratings dengan movies berdasarkan nilai movieId\n",
        "movies_info = pd.merge(ratings, movies , on='movieId', how='left')\n",
        "movies_info"
      ],
      "metadata": {
        "id": "Ax0B4feT9HVs"
      },
      "execution_count": null,
      "outputs": []
    },
    {
      "cell_type": "markdown",
      "source": [
        "**Output:** menghasilkan penggabungan data ratings dengan movies yang di mana kolom title dan genres pada data movies ditambahkan ke sebelah kiri pada kolom data ratings, sehingga menghasilkan 6 kolom dan 25000095 baris."
      ],
      "metadata": {
        "id": "cEo9oKXF9Pfb"
      }
    },
    {
      "cell_type": "markdown",
      "source": [
        "Pada tahap ini melakukan proses pengurutan movies_info berdasarkan movieId kemudian memasukkannya ke dalam variabel fix_movies."
      ],
      "metadata": {
        "id": "1rOT-AYpgkMi"
      }
    },
    {
      "cell_type": "code",
      "source": [
        "# Mengurutkan movies_info berdasarkan movieId kemudian memasukkannya ke dalam variabel fix_movies\n",
        "fix_movies = movies_info.sort_values('movieId', ascending=True)\n",
        "fix_movies"
      ],
      "metadata": {
        "id": "5YSq7pDgMuOJ"
      },
      "execution_count": null,
      "outputs": []
    },
    {
      "cell_type": "markdown",
      "source": [
        "**Output:** menghasilkan data yang berurutan berdasarkan kolom movieId melalui teknik **Ascending**atau mengurutkan nilai dari yang terkecil ke terbesar, di mana memiliki jumlah baris 25000095 dan 6 kolom."
      ],
      "metadata": {
        "id": "J1VtOs2mgtVX"
      }
    },
    {
      "cell_type": "markdown",
      "source": [
        "Tahapan untuk melakukan pengecekan jumlah dari fix_movies berdasarkan movieId."
      ],
      "metadata": {
        "id": "1DQPHiNThxfj"
      }
    },
    {
      "cell_type": "code",
      "source": [
        "# Mengecek berapa jumlah fix_movies\n",
        "len(fix_movies.movieId.unique())"
      ],
      "metadata": {
        "id": "z2ePUO15Ngo-"
      },
      "execution_count": null,
      "outputs": []
    },
    {
      "cell_type": "markdown",
      "source": [
        "**Output:** menghasilkan jumlah data dari fix_movies adalah 59047."
      ],
      "metadata": {
        "id": "RjZMmO_niI6i"
      }
    },
    {
      "cell_type": "markdown",
      "source": [
        "Tahapan untuk melakukan pengecekan untuk kategori genres yang unik."
      ],
      "metadata": {
        "id": "CYkwKlPiiUtw"
      }
    },
    {
      "cell_type": "code",
      "source": [
        "# Mengecek kategori genres yang unik\n",
        "fix_movies.genres.unique()"
      ],
      "metadata": {
        "id": "j6WbrLBeN7TV"
      },
      "execution_count": null,
      "outputs": []
    },
    {
      "cell_type": "markdown",
      "source": [
        "**Output:** menghasilkan berbagai macam genre dengan adanya kombinasi genre pada film."
      ],
      "metadata": {
        "id": "DMblbpivibe-"
      }
    },
    {
      "cell_type": "markdown",
      "source": [
        "Melakukan pengecekan kategori genres untuk data (no genres listed)"
      ],
      "metadata": {
        "id": "7i4fNyn2TvuC"
      }
    },
    {
      "cell_type": "code",
      "source": [
        "# Mengecek kategori genres (no genres listed)\n",
        "fix_movies[fix_movies['genres'] == '(no genres listed)']"
      ],
      "metadata": {
        "id": "hew_kkN0P5wK"
      },
      "execution_count": null,
      "outputs": []
    },
    {
      "cell_type": "markdown",
      "source": [
        "**Output:** menunjukkan hasil data (no genres listed) pada kolom genres sebanyak 26627 baris dan 6 kolom."
      ],
      "metadata": {
        "id": "80yIDrroTm-y"
      }
    },
    {
      "cell_type": "markdown",
      "source": [
        "Mengubah nama kategori genres  (no genres listed) menjadi ‘unknown’"
      ],
      "metadata": {
        "id": "3XZu-tsqTUmT"
      }
    },
    {
      "cell_type": "code",
      "source": [
        "# Mengubah nama kategori genres  (no genres listed) menjadi ‘unknown’\n",
        "fix_movies = fix_movies.replace('(no genres listed)', 'unknown')\n",
        "fix_movies[fix_movies['genres'] == 'unknown']"
      ],
      "metadata": {
        "id": "_VtztRNMQEKf"
      },
      "execution_count": null,
      "outputs": []
    },
    {
      "cell_type": "markdown",
      "source": [
        "**Output:** menunjukkan bahwa terjadi perubahan pada kolom genres di data (no genres listed) menjadi unknown."
      ],
      "metadata": {
        "id": "ncwETQfeTZLh"
      }
    },
    {
      "cell_type": "markdown",
      "source": [
        "Melakukan ganti karakter `|` menjadi koma dan menghapus karakter non-alphabet pada kolom genres"
      ],
      "metadata": {
        "id": "Gk_dXzB8RlVB"
      }
    },
    {
      "cell_type": "code",
      "source": [
        "fix_movies['genres'] = fix_movies['genres'].str.replace('|', ', ', regex=False).str.replace('[^a-zA-Z, ]', '', regex=True)"
      ],
      "metadata": {
        "id": "RrK99XGIRHuy"
      },
      "execution_count": null,
      "outputs": []
    },
    {
      "cell_type": "markdown",
      "source": [
        "Melakukan pembuatan variabel preparation yang berisi dataframe fix_movies kemudian mengurutkan berdasarkan movieId."
      ],
      "metadata": {
        "id": "xDVb49aJkNtJ"
      }
    },
    {
      "cell_type": "code",
      "source": [
        "# Membuat variabel preparation yang berisi dataframe fix_movies kemudian mengurutkan berdasarkan movieId\n",
        "preparation = fix_movies\n",
        "preparation.sort_values('movieId')"
      ],
      "metadata": {
        "id": "gaK0UK-MPgDx"
      },
      "execution_count": null,
      "outputs": []
    },
    {
      "cell_type": "markdown",
      "source": [
        "**Output:** menunjukkan tabel data yang memiliki 6 kolom yaitu userId, movieId, rating, timestamp, dan title dengan jumlah baris sebanyak 25000095."
      ],
      "metadata": {
        "id": "B1z5OL5hkeg8"
      }
    },
    {
      "cell_type": "markdown",
      "source": [
        "Menghapus data duplikat pada variabel preparation menggunakan fungsi `drop_duplicates` berdasarkan kolom movieId."
      ],
      "metadata": {
        "id": "vvoiEAmTku1k"
      }
    },
    {
      "cell_type": "code",
      "source": [
        "# Membuang data duplikat pada variabel preparation\n",
        "preparation = preparation.drop_duplicates('movieId')\n",
        "preparation"
      ],
      "metadata": {
        "id": "jYmOnUBSRd7U"
      },
      "execution_count": null,
      "outputs": []
    },
    {
      "cell_type": "markdown",
      "source": [
        "**Output:** terjadinya perubahan jumlah baris, di mana sebelumnya berjumlah 25000095. Namun ketika menghapus duplikasi menjadi 59047 baris dan 6 kolom."
      ],
      "metadata": {
        "id": "YpadQg-Xk8s7"
      }
    },
    {
      "cell_type": "markdown",
      "source": [
        "Melakukan proses konversi data series menjadi bentuk list menggunakan fungsi `tolist()`. Untuk data yang di konversi adalah data kolom movieId, title, dan genres."
      ],
      "metadata": {
        "id": "2WXDxu5vlP44"
      }
    },
    {
      "cell_type": "code",
      "source": [
        "# Mengonversi data series ‘movieId’, ‘title’, dan ‘genres’ menjadi dalam bentuk list\n",
        "movies_id = preparation['movieId'].tolist()\n",
        "movies_title = preparation['title'].tolist()\n",
        "movies_genres = preparation['genres'].tolist()\n",
        "\n",
        "print(len(movies_id))\n",
        "print(len(movies_title))\n",
        "print(len(movies_genres))"
      ],
      "metadata": {
        "id": "eTbvuDd-QAKk"
      },
      "execution_count": null,
      "outputs": []
    },
    {
      "cell_type": "markdown",
      "source": [
        "**Output:** hasil menunjukkan bahwa untuk masing-masing data movies_id, movies_title, dan movies_genres memiliki jumlah yang sama yaitu 59047."
      ],
      "metadata": {
        "id": "JpCXNhZjlhRn"
      }
    },
    {
      "cell_type": "markdown",
      "source": [
        "Melakukan pembuatan dictionary untuk menentukan pasangan key-value pada data movies_id, movies_title, dan movies_genres."
      ],
      "metadata": {
        "id": "qCfDe59Bly5U"
      }
    },
    {
      "cell_type": "code",
      "source": [
        "# Membuat dictionary untuk data ‘movies_id’, ‘movies_title’, dan ‘movies_genres’\n",
        "movies_new = pd.DataFrame({\n",
        "    'id': movies_id,\n",
        "    'movies_title': movies_title,\n",
        "    'genres': movies_genres\n",
        "})\n",
        "movies_new"
      ],
      "metadata": {
        "id": "RzgQLfilQsKy"
      },
      "execution_count": null,
      "outputs": []
    },
    {
      "cell_type": "markdown",
      "source": [
        "**Output:** menunjukkan tabel yang berisikan tiga kolom yaitu id yang berisikan movies_id, movies_title berisikan data movies_title, dan genres berisikan data movies_genres. Untuk jumlah baris datanya adalah 59047."
      ],
      "metadata": {
        "id": "FTycs0x4mAyi"
      }
    },
    {
      "cell_type": "markdown",
      "source": [
        "## **Model Development dengan Content Based Filtering**\n",
        "Tahapan ini adalah melakukan pembangunan model sistem rekomendasi menggunakan pendekatan Content Based Filtering. Pendekatan ini dilakukan untuk mengetahui rekomendasi item yang mirip dengan item yang disukai pengguna."
      ],
      "metadata": {
        "id": "2xB9fFEYRQ-f"
      }
    },
    {
      "cell_type": "markdown",
      "source": [
        "Tahapan ini diawali dengan melakukan pengecekan data dan assign dataframe ke dalam variabel data."
      ],
      "metadata": {
        "id": "MX3BHPHKm62u"
      }
    },
    {
      "cell_type": "code",
      "source": [
        "data = movies_new\n",
        "data.sample(5)"
      ],
      "metadata": {
        "id": "BKqOICLFRJOE"
      },
      "execution_count": null,
      "outputs": []
    },
    {
      "cell_type": "markdown",
      "source": [
        "**Output:** menunjukkan variabel data berdasarkan movies_new dengan menampilkan hanya 5 sampel data saja baik itu id, movies_title, dan genres."
      ],
      "metadata": {
        "id": "Cfb-z4mhnHNF"
      }
    },
    {
      "cell_type": "markdown",
      "source": [
        "### **TF-IDF Vectorizer**\n",
        "Tahapan ini adalah untuk membangun sistem rekomendasi sederhana berdasarkan kategori genres pada film. Teknik ini untuk menemukan representasi fitur penting dari setiap kategori genres."
      ],
      "metadata": {
        "id": "DRc5SFrtR2fx"
      }
    },
    {
      "cell_type": "markdown",
      "source": [
        "Tahapan ini diawali dengan proses inisialisasi TfidfVectorizer. Kemudian melakukan perhitungan idf pada data genres dan mapping array fitur index integer ke fitur nama. Proses ini menggunakan fungsi `tfidfvectorizer()` dari library sklearn."
      ],
      "metadata": {
        "id": "-iCMtW-CnziV"
      }
    },
    {
      "cell_type": "code",
      "source": [
        "# Inisialisasi TfidfVectorizer\n",
        "tf = TfidfVectorizer()\n",
        "tf.fit(data['genres'])\n",
        "\n",
        "# Mapping array dari fitur index integer ke fitur nama\n",
        "tf.get_feature_names_out()"
      ],
      "metadata": {
        "id": "ArUy1krESAkr"
      },
      "execution_count": null,
      "outputs": []
    },
    {
      "cell_type": "markdown",
      "source": [
        "**Output:** menunjukkan daftar dari genre film."
      ],
      "metadata": {
        "id": "EeRr6bRioWGA"
      }
    },
    {
      "cell_type": "markdown",
      "source": [
        "Tahapan untuk melakukan fit dan transformasi ke dalam bentuk matriks."
      ],
      "metadata": {
        "id": "uC6-FzvXpeBs"
      }
    },
    {
      "cell_type": "code",
      "source": [
        "# Melakukan fit lalu ditransformasikan ke bentuk matrix\n",
        "tfidf_matrix = tf.fit_transform(data['genres'])\n",
        "\n",
        "# Melihat ukuran matrix tfidf\n",
        "tfidf_matrix.shape"
      ],
      "metadata": {
        "id": "7WZ3LFR4SEy3"
      },
      "execution_count": null,
      "outputs": []
    },
    {
      "cell_type": "markdown",
      "source": [
        "**Output:** menghasilkan matriks dengan ukuran (59047, 20), di mana 59047 adalah ukuran data dan 20 merupakan matriks kategori genre."
      ],
      "metadata": {
        "id": "A9Sm5GUQpl_3"
      }
    },
    {
      "cell_type": "markdown",
      "source": [
        "Mengubah vektor tf-idf dalam bentuk matriks dengan menggunakan fungsi `todense()`."
      ],
      "metadata": {
        "id": "j1x_NueMpzbA"
      }
    },
    {
      "cell_type": "code",
      "source": [
        "# Mengubah vektor tf-idf dalam bentuk matriks dengan fungsi todense()\n",
        "tfidf_matrix.todense()"
      ],
      "metadata": {
        "id": "tHx_ZrY5SLlK"
      },
      "execution_count": null,
      "outputs": []
    },
    {
      "cell_type": "markdown",
      "source": [
        "**Output:** menghasilkan konversi tfidf matrix dengan menunjukkan bentuk bilangan representasi numerik."
      ],
      "metadata": {
        "id": "WI6hifjpp_OE"
      }
    },
    {
      "cell_type": "markdown",
      "source": [
        "Melakukan pembatasan ukuran data dengan hanya mengambil 1000 data film."
      ],
      "metadata": {
        "id": "dYnvJgRxqiKG"
      }
    },
    {
      "cell_type": "code",
      "source": [
        "tfidf_limit = tfidf_matrix[:1000]"
      ],
      "metadata": {
        "id": "0FGOSUCZT3QB"
      },
      "execution_count": null,
      "outputs": []
    },
    {
      "cell_type": "markdown",
      "source": [
        "Melakukan pembuatan dataframe agar dapat meninjau tfidf matrix dengan kolom berisikan genre, dan baris berisikan judul film atau movies_title."
      ],
      "metadata": {
        "id": "0E492t5Gqt6W"
      }
    },
    {
      "cell_type": "code",
      "source": [
        "pd.DataFrame(\n",
        "    tfidf_limit.todense(),\n",
        "    columns=tf.get_feature_names_out(),\n",
        "    index=data.movies_title[:1000]\n",
        ").sample(20, axis=1).sample(15, axis=0)"
      ],
      "metadata": {
        "colab": {
          "base_uri": "https://localhost:8080/",
          "height": 655
        },
        "id": "r-vONYYtSP5H",
        "outputId": "4e9ba5fb-d1ec-481a-f419-8979436a1f36"
      },
      "execution_count": 33,
      "outputs": [
        {
          "output_type": "execute_result",
          "data": {
            "text/plain": [
              "                                                     romance  unknown  war  \\\n",
              "movies_title                                                                 \n",
              "Billy's Holiday (1995)                              0.000000      0.0  0.0   \n",
              "Once Upon a Time... When We Were Colored (1995)     0.854149      0.0  0.0   \n",
              "Beautiful Girls (1996)                              0.720554      0.0  0.0   \n",
              "Yankee Zulu (1994)                                  0.000000      0.0  0.0   \n",
              "Basketball Diaries, The (1995)                      0.000000      0.0  0.0   \n",
              "Living in Oblivion (1995)                           0.000000      0.0  0.0   \n",
              "Goofy Movie, A (1995)                               0.450074      0.0  0.0   \n",
              "Junior (1994)                                       0.000000      0.0  0.0   \n",
              "Wes Craven's New Nightmare (Nightmare on Elm St...  0.000000      0.0  0.0   \n",
              "Jumanji (1995)                                      0.000000      0.0  0.0   \n",
              "Pocahontas (1995)                                   0.366750      0.0  0.0   \n",
              "American President, The (1995)                      0.720554      0.0  0.0   \n",
              "20,000 Leagues Under the Sea (1954)                 0.000000      0.0  0.0   \n",
              "Maya Lin: A Strong Clear Vision (1994)              0.000000      0.0  0.0   \n",
              "Hackers (1995)                                      0.000000      0.0  0.0   \n",
              "\n",
              "                                                    adventure   musical  \\\n",
              "movies_title                                                              \n",
              "Billy's Holiday (1995)                               0.000000  0.937338   \n",
              "Once Upon a Time... When We Were Colored (1995)      0.000000  0.000000   \n",
              "Beautiful Girls (1996)                               0.000000  0.000000   \n",
              "Yankee Zulu (1994)                                   0.000000  0.000000   \n",
              "Basketball Diaries, The (1995)                       0.000000  0.000000   \n",
              "Living in Oblivion (1995)                            0.000000  0.000000   \n",
              "Goofy Movie, A (1995)                                0.000000  0.000000   \n",
              "Junior (1994)                                        0.000000  0.000000   \n",
              "Wes Craven's New Nightmare (Nightmare on Elm St...   0.000000  0.000000   \n",
              "Jumanji (1995)                                       0.544180  0.000000   \n",
              "Pocahontas (1995)                                    0.000000  0.600696   \n",
              "American President, The (1995)                       0.000000  0.000000   \n",
              "20,000 Leagues Under the Sea (1954)                  0.658091  0.000000   \n",
              "Maya Lin: A Strong Clear Vision (1994)               0.000000  0.000000   \n",
              "Hackers (1995)                                       0.558337  0.000000   \n",
              "\n",
              "                                                       drama     scifi  \\\n",
              "movies_title                                                             \n",
              "Billy's Holiday (1995)                              0.348422  0.000000   \n",
              "Once Upon a Time... When We Were Colored (1995)     0.520029  0.000000   \n",
              "Beautiful Girls (1996)                              0.438693  0.000000   \n",
              "Yankee Zulu (1994)                                  0.632671  0.000000   \n",
              "Basketball Diaries, The (1995)                      1.000000  0.000000   \n",
              "Living in Oblivion (1995)                           0.000000  0.000000   \n",
              "Goofy Movie, A (1995)                               0.000000  0.000000   \n",
              "Junior (1994)                                       0.000000  0.856733   \n",
              "Wes Craven's New Nightmare (Nightmare on Elm St...  0.298099  0.000000   \n",
              "Jumanji (1995)                                      0.000000  0.000000   \n",
              "Pocahontas (1995)                                   0.223288  0.000000   \n",
              "American President, The (1995)                      0.438693  0.000000   \n",
              "20,000 Leagues Under the Sea (1954)                 0.332294  0.675646   \n",
              "Maya Lin: A Strong Clear Vision (1994)              0.000000  0.000000   \n",
              "Hackers (1995)                                      0.000000  0.000000   \n",
              "\n",
              "                                                    children  thriller  \\\n",
              "movies_title                                                             \n",
              "Billy's Holiday (1995)                              0.000000  0.000000   \n",
              "Once Upon a Time... When We Were Colored (1995)     0.000000  0.000000   \n",
              "Beautiful Girls (1996)                              0.000000  0.000000   \n",
              "Yankee Zulu (1994)                                  0.000000  0.000000   \n",
              "Basketball Diaries, The (1995)                      0.000000  0.000000   \n",
              "Living in Oblivion (1995)                           0.000000  0.000000   \n",
              "Goofy Movie, A (1995)                               0.586340  0.000000   \n",
              "Junior (1994)                                       0.000000  0.000000   \n",
              "Wes Craven's New Nightmare (Nightmare on Elm St...  0.000000  0.468823   \n",
              "Jumanji (1995)                                      0.587963  0.000000   \n",
              "Pocahontas (1995)                                   0.477788  0.000000   \n",
              "American President, The (1995)                      0.000000  0.000000   \n",
              "20,000 Leagues Under the Sea (1954)                 0.000000  0.000000   \n",
              "Maya Lin: A Strong Clear Vision (1994)              0.000000  0.000000   \n",
              "Hackers (1995)                                      0.000000  0.443385   \n",
              "\n",
              "                                                    animation    action  \\\n",
              "movies_title                                                              \n",
              "Billy's Holiday (1995)                               0.000000  0.000000   \n",
              "Once Upon a Time... When We Were Colored (1995)      0.000000  0.000000   \n",
              "Beautiful Girls (1996)                               0.000000  0.000000   \n",
              "Yankee Zulu (1994)                                   0.000000  0.000000   \n",
              "Basketball Diaries, The (1995)                       0.000000  0.000000   \n",
              "Living in Oblivion (1995)                            0.000000  0.000000   \n",
              "Goofy Movie, A (1995)                                0.584071  0.000000   \n",
              "Junior (1994)                                        0.000000  0.000000   \n",
              "Wes Craven's New Nightmare (Nightmare on Elm St...   0.000000  0.000000   \n",
              "Jumanji (1995)                                       0.000000  0.000000   \n",
              "Pocahontas (1995)                                    0.475940  0.000000   \n",
              "American President, The (1995)                       0.000000  0.000000   \n",
              "20,000 Leagues Under the Sea (1954)                  0.000000  0.000000   \n",
              "Maya Lin: A Strong Clear Vision (1994)               0.000000  0.000000   \n",
              "Hackers (1995)                                       0.000000  0.471326   \n",
              "\n",
              "                                                    documentary   mystery  \\\n",
              "movies_title                                                                \n",
              "Billy's Holiday (1995)                                      0.0  0.000000   \n",
              "Once Upon a Time... When We Were Colored (1995)             0.0  0.000000   \n",
              "Beautiful Girls (1996)                                      0.0  0.000000   \n",
              "Yankee Zulu (1994)                                          0.0  0.000000   \n",
              "Basketball Diaries, The (1995)                              0.0  0.000000   \n",
              "Living in Oblivion (1995)                                   0.0  0.000000   \n",
              "Goofy Movie, A (1995)                                       0.0  0.000000   \n",
              "Junior (1994)                                               0.0  0.000000   \n",
              "Wes Craven's New Nightmare (Nightmare on Elm St...          0.0  0.642582   \n",
              "Jumanji (1995)                                              0.0  0.000000   \n",
              "Pocahontas (1995)                                           0.0  0.000000   \n",
              "American President, The (1995)                              0.0  0.000000   \n",
              "20,000 Leagues Under the Sea (1954)                         0.0  0.000000   \n",
              "Maya Lin: A Strong Clear Vision (1994)                      1.0  0.000000   \n",
              "Hackers (1995)                                              0.0  0.000000   \n",
              "\n",
              "                                                    western  filmnoir  \\\n",
              "movies_title                                                            \n",
              "Billy's Holiday (1995)                                  0.0       0.0   \n",
              "Once Upon a Time... When We Were Colored (1995)         0.0       0.0   \n",
              "Beautiful Girls (1996)                                  0.0       0.0   \n",
              "Yankee Zulu (1994)                                      0.0       0.0   \n",
              "Basketball Diaries, The (1995)                          0.0       0.0   \n",
              "Living in Oblivion (1995)                               0.0       0.0   \n",
              "Goofy Movie, A (1995)                                   0.0       0.0   \n",
              "Junior (1994)                                           0.0       0.0   \n",
              "Wes Craven's New Nightmare (Nightmare on Elm St...      0.0       0.0   \n",
              "Jumanji (1995)                                          0.0       0.0   \n",
              "Pocahontas (1995)                                       0.0       0.0   \n",
              "American President, The (1995)                          0.0       0.0   \n",
              "20,000 Leagues Under the Sea (1954)                     0.0       0.0   \n",
              "Maya Lin: A Strong Clear Vision (1994)                  0.0       0.0   \n",
              "Hackers (1995)                                          0.0       0.0   \n",
              "\n",
              "                                                     fantasy  imax     crime  \\\n",
              "movies_title                                                                   \n",
              "Billy's Holiday (1995)                              0.000000   0.0  0.000000   \n",
              "Once Upon a Time... When We Were Colored (1995)     0.000000   0.0  0.000000   \n",
              "Beautiful Girls (1996)                              0.000000   0.0  0.000000   \n",
              "Yankee Zulu (1994)                                  0.000000   0.0  0.000000   \n",
              "Basketball Diaries, The (1995)                      0.000000   0.0  0.000000   \n",
              "Living in Oblivion (1995)                           0.000000   0.0  0.000000   \n",
              "Goofy Movie, A (1995)                               0.000000   0.0  0.000000   \n",
              "Junior (1994)                                       0.000000   0.0  0.000000   \n",
              "Wes Craven's New Nightmare (Nightmare on Elm St...  0.000000   0.0  0.000000   \n",
              "Jumanji (1995)                                      0.598471   0.0  0.000000   \n",
              "Pocahontas (1995)                                   0.000000   0.0  0.000000   \n",
              "American President, The (1995)                      0.000000   0.0  0.000000   \n",
              "20,000 Leagues Under the Sea (1954)                 0.000000   0.0  0.000000   \n",
              "Maya Lin: A Strong Clear Vision (1994)              0.000000   0.0  0.000000   \n",
              "Hackers (1995)                                      0.000000   0.0  0.519155   \n",
              "\n",
              "                                                      comedy    horror  \n",
              "movies_title                                                            \n",
              "Billy's Holiday (1995)                              0.000000  0.000000  \n",
              "Once Upon a Time... When We Were Colored (1995)     0.000000  0.000000  \n",
              "Beautiful Girls (1996)                              0.536982  0.000000  \n",
              "Yankee Zulu (1994)                                  0.774421  0.000000  \n",
              "Basketball Diaries, The (1995)                      0.000000  0.000000  \n",
              "Living in Oblivion (1995)                           1.000000  0.000000  \n",
              "Goofy Movie, A (1995)                               0.335411  0.000000  \n",
              "Junior (1994)                                       0.515760  0.000000  \n",
              "Wes Craven's New Nightmare (Nightmare on Elm St...  0.000000  0.527665  \n",
              "Jumanji (1995)                                      0.000000  0.000000  \n",
              "Pocahontas (1995)                                   0.000000  0.000000  \n",
              "American President, The (1995)                      0.536982  0.000000  \n",
              "20,000 Leagues Under the Sea (1954)                 0.000000  0.000000  \n",
              "Maya Lin: A Strong Clear Vision (1994)              0.000000  0.000000  \n",
              "Hackers (1995)                                      0.000000  0.000000  "
            ],
            "text/html": [
              "\n",
              "  <div id=\"df-ba557880-3c18-4dc3-8ac1-511b1a52c1ad\" class=\"colab-df-container\">\n",
              "    <div>\n",
              "<style scoped>\n",
              "    .dataframe tbody tr th:only-of-type {\n",
              "        vertical-align: middle;\n",
              "    }\n",
              "\n",
              "    .dataframe tbody tr th {\n",
              "        vertical-align: top;\n",
              "    }\n",
              "\n",
              "    .dataframe thead th {\n",
              "        text-align: right;\n",
              "    }\n",
              "</style>\n",
              "<table border=\"1\" class=\"dataframe\">\n",
              "  <thead>\n",
              "    <tr style=\"text-align: right;\">\n",
              "      <th></th>\n",
              "      <th>romance</th>\n",
              "      <th>unknown</th>\n",
              "      <th>war</th>\n",
              "      <th>adventure</th>\n",
              "      <th>musical</th>\n",
              "      <th>drama</th>\n",
              "      <th>scifi</th>\n",
              "      <th>children</th>\n",
              "      <th>thriller</th>\n",
              "      <th>animation</th>\n",
              "      <th>action</th>\n",
              "      <th>documentary</th>\n",
              "      <th>mystery</th>\n",
              "      <th>western</th>\n",
              "      <th>filmnoir</th>\n",
              "      <th>fantasy</th>\n",
              "      <th>imax</th>\n",
              "      <th>crime</th>\n",
              "      <th>comedy</th>\n",
              "      <th>horror</th>\n",
              "    </tr>\n",
              "    <tr>\n",
              "      <th>movies_title</th>\n",
              "      <th></th>\n",
              "      <th></th>\n",
              "      <th></th>\n",
              "      <th></th>\n",
              "      <th></th>\n",
              "      <th></th>\n",
              "      <th></th>\n",
              "      <th></th>\n",
              "      <th></th>\n",
              "      <th></th>\n",
              "      <th></th>\n",
              "      <th></th>\n",
              "      <th></th>\n",
              "      <th></th>\n",
              "      <th></th>\n",
              "      <th></th>\n",
              "      <th></th>\n",
              "      <th></th>\n",
              "      <th></th>\n",
              "      <th></th>\n",
              "    </tr>\n",
              "  </thead>\n",
              "  <tbody>\n",
              "    <tr>\n",
              "      <th>Billy's Holiday (1995)</th>\n",
              "      <td>0.000000</td>\n",
              "      <td>0.0</td>\n",
              "      <td>0.0</td>\n",
              "      <td>0.000000</td>\n",
              "      <td>0.937338</td>\n",
              "      <td>0.348422</td>\n",
              "      <td>0.000000</td>\n",
              "      <td>0.000000</td>\n",
              "      <td>0.000000</td>\n",
              "      <td>0.000000</td>\n",
              "      <td>0.000000</td>\n",
              "      <td>0.0</td>\n",
              "      <td>0.000000</td>\n",
              "      <td>0.0</td>\n",
              "      <td>0.0</td>\n",
              "      <td>0.000000</td>\n",
              "      <td>0.0</td>\n",
              "      <td>0.000000</td>\n",
              "      <td>0.000000</td>\n",
              "      <td>0.000000</td>\n",
              "    </tr>\n",
              "    <tr>\n",
              "      <th>Once Upon a Time... When We Were Colored (1995)</th>\n",
              "      <td>0.854149</td>\n",
              "      <td>0.0</td>\n",
              "      <td>0.0</td>\n",
              "      <td>0.000000</td>\n",
              "      <td>0.000000</td>\n",
              "      <td>0.520029</td>\n",
              "      <td>0.000000</td>\n",
              "      <td>0.000000</td>\n",
              "      <td>0.000000</td>\n",
              "      <td>0.000000</td>\n",
              "      <td>0.000000</td>\n",
              "      <td>0.0</td>\n",
              "      <td>0.000000</td>\n",
              "      <td>0.0</td>\n",
              "      <td>0.0</td>\n",
              "      <td>0.000000</td>\n",
              "      <td>0.0</td>\n",
              "      <td>0.000000</td>\n",
              "      <td>0.000000</td>\n",
              "      <td>0.000000</td>\n",
              "    </tr>\n",
              "    <tr>\n",
              "      <th>Beautiful Girls (1996)</th>\n",
              "      <td>0.720554</td>\n",
              "      <td>0.0</td>\n",
              "      <td>0.0</td>\n",
              "      <td>0.000000</td>\n",
              "      <td>0.000000</td>\n",
              "      <td>0.438693</td>\n",
              "      <td>0.000000</td>\n",
              "      <td>0.000000</td>\n",
              "      <td>0.000000</td>\n",
              "      <td>0.000000</td>\n",
              "      <td>0.000000</td>\n",
              "      <td>0.0</td>\n",
              "      <td>0.000000</td>\n",
              "      <td>0.0</td>\n",
              "      <td>0.0</td>\n",
              "      <td>0.000000</td>\n",
              "      <td>0.0</td>\n",
              "      <td>0.000000</td>\n",
              "      <td>0.536982</td>\n",
              "      <td>0.000000</td>\n",
              "    </tr>\n",
              "    <tr>\n",
              "      <th>Yankee Zulu (1994)</th>\n",
              "      <td>0.000000</td>\n",
              "      <td>0.0</td>\n",
              "      <td>0.0</td>\n",
              "      <td>0.000000</td>\n",
              "      <td>0.000000</td>\n",
              "      <td>0.632671</td>\n",
              "      <td>0.000000</td>\n",
              "      <td>0.000000</td>\n",
              "      <td>0.000000</td>\n",
              "      <td>0.000000</td>\n",
              "      <td>0.000000</td>\n",
              "      <td>0.0</td>\n",
              "      <td>0.000000</td>\n",
              "      <td>0.0</td>\n",
              "      <td>0.0</td>\n",
              "      <td>0.000000</td>\n",
              "      <td>0.0</td>\n",
              "      <td>0.000000</td>\n",
              "      <td>0.774421</td>\n",
              "      <td>0.000000</td>\n",
              "    </tr>\n",
              "    <tr>\n",
              "      <th>Basketball Diaries, The (1995)</th>\n",
              "      <td>0.000000</td>\n",
              "      <td>0.0</td>\n",
              "      <td>0.0</td>\n",
              "      <td>0.000000</td>\n",
              "      <td>0.000000</td>\n",
              "      <td>1.000000</td>\n",
              "      <td>0.000000</td>\n",
              "      <td>0.000000</td>\n",
              "      <td>0.000000</td>\n",
              "      <td>0.000000</td>\n",
              "      <td>0.000000</td>\n",
              "      <td>0.0</td>\n",
              "      <td>0.000000</td>\n",
              "      <td>0.0</td>\n",
              "      <td>0.0</td>\n",
              "      <td>0.000000</td>\n",
              "      <td>0.0</td>\n",
              "      <td>0.000000</td>\n",
              "      <td>0.000000</td>\n",
              "      <td>0.000000</td>\n",
              "    </tr>\n",
              "    <tr>\n",
              "      <th>Living in Oblivion (1995)</th>\n",
              "      <td>0.000000</td>\n",
              "      <td>0.0</td>\n",
              "      <td>0.0</td>\n",
              "      <td>0.000000</td>\n",
              "      <td>0.000000</td>\n",
              "      <td>0.000000</td>\n",
              "      <td>0.000000</td>\n",
              "      <td>0.000000</td>\n",
              "      <td>0.000000</td>\n",
              "      <td>0.000000</td>\n",
              "      <td>0.000000</td>\n",
              "      <td>0.0</td>\n",
              "      <td>0.000000</td>\n",
              "      <td>0.0</td>\n",
              "      <td>0.0</td>\n",
              "      <td>0.000000</td>\n",
              "      <td>0.0</td>\n",
              "      <td>0.000000</td>\n",
              "      <td>1.000000</td>\n",
              "      <td>0.000000</td>\n",
              "    </tr>\n",
              "    <tr>\n",
              "      <th>Goofy Movie, A (1995)</th>\n",
              "      <td>0.450074</td>\n",
              "      <td>0.0</td>\n",
              "      <td>0.0</td>\n",
              "      <td>0.000000</td>\n",
              "      <td>0.000000</td>\n",
              "      <td>0.000000</td>\n",
              "      <td>0.000000</td>\n",
              "      <td>0.586340</td>\n",
              "      <td>0.000000</td>\n",
              "      <td>0.584071</td>\n",
              "      <td>0.000000</td>\n",
              "      <td>0.0</td>\n",
              "      <td>0.000000</td>\n",
              "      <td>0.0</td>\n",
              "      <td>0.0</td>\n",
              "      <td>0.000000</td>\n",
              "      <td>0.0</td>\n",
              "      <td>0.000000</td>\n",
              "      <td>0.335411</td>\n",
              "      <td>0.000000</td>\n",
              "    </tr>\n",
              "    <tr>\n",
              "      <th>Junior (1994)</th>\n",
              "      <td>0.000000</td>\n",
              "      <td>0.0</td>\n",
              "      <td>0.0</td>\n",
              "      <td>0.000000</td>\n",
              "      <td>0.000000</td>\n",
              "      <td>0.000000</td>\n",
              "      <td>0.856733</td>\n",
              "      <td>0.000000</td>\n",
              "      <td>0.000000</td>\n",
              "      <td>0.000000</td>\n",
              "      <td>0.000000</td>\n",
              "      <td>0.0</td>\n",
              "      <td>0.000000</td>\n",
              "      <td>0.0</td>\n",
              "      <td>0.0</td>\n",
              "      <td>0.000000</td>\n",
              "      <td>0.0</td>\n",
              "      <td>0.000000</td>\n",
              "      <td>0.515760</td>\n",
              "      <td>0.000000</td>\n",
              "    </tr>\n",
              "    <tr>\n",
              "      <th>Wes Craven's New Nightmare (Nightmare on Elm Street Part 7: Freddy's Finale, A) (1994)</th>\n",
              "      <td>0.000000</td>\n",
              "      <td>0.0</td>\n",
              "      <td>0.0</td>\n",
              "      <td>0.000000</td>\n",
              "      <td>0.000000</td>\n",
              "      <td>0.298099</td>\n",
              "      <td>0.000000</td>\n",
              "      <td>0.000000</td>\n",
              "      <td>0.468823</td>\n",
              "      <td>0.000000</td>\n",
              "      <td>0.000000</td>\n",
              "      <td>0.0</td>\n",
              "      <td>0.642582</td>\n",
              "      <td>0.0</td>\n",
              "      <td>0.0</td>\n",
              "      <td>0.000000</td>\n",
              "      <td>0.0</td>\n",
              "      <td>0.000000</td>\n",
              "      <td>0.000000</td>\n",
              "      <td>0.527665</td>\n",
              "    </tr>\n",
              "    <tr>\n",
              "      <th>Jumanji (1995)</th>\n",
              "      <td>0.000000</td>\n",
              "      <td>0.0</td>\n",
              "      <td>0.0</td>\n",
              "      <td>0.544180</td>\n",
              "      <td>0.000000</td>\n",
              "      <td>0.000000</td>\n",
              "      <td>0.000000</td>\n",
              "      <td>0.587963</td>\n",
              "      <td>0.000000</td>\n",
              "      <td>0.000000</td>\n",
              "      <td>0.000000</td>\n",
              "      <td>0.0</td>\n",
              "      <td>0.000000</td>\n",
              "      <td>0.0</td>\n",
              "      <td>0.0</td>\n",
              "      <td>0.598471</td>\n",
              "      <td>0.0</td>\n",
              "      <td>0.000000</td>\n",
              "      <td>0.000000</td>\n",
              "      <td>0.000000</td>\n",
              "    </tr>\n",
              "    <tr>\n",
              "      <th>Pocahontas (1995)</th>\n",
              "      <td>0.366750</td>\n",
              "      <td>0.0</td>\n",
              "      <td>0.0</td>\n",
              "      <td>0.000000</td>\n",
              "      <td>0.600696</td>\n",
              "      <td>0.223288</td>\n",
              "      <td>0.000000</td>\n",
              "      <td>0.477788</td>\n",
              "      <td>0.000000</td>\n",
              "      <td>0.475940</td>\n",
              "      <td>0.000000</td>\n",
              "      <td>0.0</td>\n",
              "      <td>0.000000</td>\n",
              "      <td>0.0</td>\n",
              "      <td>0.0</td>\n",
              "      <td>0.000000</td>\n",
              "      <td>0.0</td>\n",
              "      <td>0.000000</td>\n",
              "      <td>0.000000</td>\n",
              "      <td>0.000000</td>\n",
              "    </tr>\n",
              "    <tr>\n",
              "      <th>American President, The (1995)</th>\n",
              "      <td>0.720554</td>\n",
              "      <td>0.0</td>\n",
              "      <td>0.0</td>\n",
              "      <td>0.000000</td>\n",
              "      <td>0.000000</td>\n",
              "      <td>0.438693</td>\n",
              "      <td>0.000000</td>\n",
              "      <td>0.000000</td>\n",
              "      <td>0.000000</td>\n",
              "      <td>0.000000</td>\n",
              "      <td>0.000000</td>\n",
              "      <td>0.0</td>\n",
              "      <td>0.000000</td>\n",
              "      <td>0.0</td>\n",
              "      <td>0.0</td>\n",
              "      <td>0.000000</td>\n",
              "      <td>0.0</td>\n",
              "      <td>0.000000</td>\n",
              "      <td>0.536982</td>\n",
              "      <td>0.000000</td>\n",
              "    </tr>\n",
              "    <tr>\n",
              "      <th>20,000 Leagues Under the Sea (1954)</th>\n",
              "      <td>0.000000</td>\n",
              "      <td>0.0</td>\n",
              "      <td>0.0</td>\n",
              "      <td>0.658091</td>\n",
              "      <td>0.000000</td>\n",
              "      <td>0.332294</td>\n",
              "      <td>0.675646</td>\n",
              "      <td>0.000000</td>\n",
              "      <td>0.000000</td>\n",
              "      <td>0.000000</td>\n",
              "      <td>0.000000</td>\n",
              "      <td>0.0</td>\n",
              "      <td>0.000000</td>\n",
              "      <td>0.0</td>\n",
              "      <td>0.0</td>\n",
              "      <td>0.000000</td>\n",
              "      <td>0.0</td>\n",
              "      <td>0.000000</td>\n",
              "      <td>0.000000</td>\n",
              "      <td>0.000000</td>\n",
              "    </tr>\n",
              "    <tr>\n",
              "      <th>Maya Lin: A Strong Clear Vision (1994)</th>\n",
              "      <td>0.000000</td>\n",
              "      <td>0.0</td>\n",
              "      <td>0.0</td>\n",
              "      <td>0.000000</td>\n",
              "      <td>0.000000</td>\n",
              "      <td>0.000000</td>\n",
              "      <td>0.000000</td>\n",
              "      <td>0.000000</td>\n",
              "      <td>0.000000</td>\n",
              "      <td>0.000000</td>\n",
              "      <td>0.000000</td>\n",
              "      <td>1.0</td>\n",
              "      <td>0.000000</td>\n",
              "      <td>0.0</td>\n",
              "      <td>0.0</td>\n",
              "      <td>0.000000</td>\n",
              "      <td>0.0</td>\n",
              "      <td>0.000000</td>\n",
              "      <td>0.000000</td>\n",
              "      <td>0.000000</td>\n",
              "    </tr>\n",
              "    <tr>\n",
              "      <th>Hackers (1995)</th>\n",
              "      <td>0.000000</td>\n",
              "      <td>0.0</td>\n",
              "      <td>0.0</td>\n",
              "      <td>0.558337</td>\n",
              "      <td>0.000000</td>\n",
              "      <td>0.000000</td>\n",
              "      <td>0.000000</td>\n",
              "      <td>0.000000</td>\n",
              "      <td>0.443385</td>\n",
              "      <td>0.000000</td>\n",
              "      <td>0.471326</td>\n",
              "      <td>0.0</td>\n",
              "      <td>0.000000</td>\n",
              "      <td>0.0</td>\n",
              "      <td>0.0</td>\n",
              "      <td>0.000000</td>\n",
              "      <td>0.0</td>\n",
              "      <td>0.519155</td>\n",
              "      <td>0.000000</td>\n",
              "      <td>0.000000</td>\n",
              "    </tr>\n",
              "  </tbody>\n",
              "</table>\n",
              "</div>\n",
              "    <div class=\"colab-df-buttons\">\n",
              "\n",
              "  <div class=\"colab-df-container\">\n",
              "    <button class=\"colab-df-convert\" onclick=\"convertToInteractive('df-ba557880-3c18-4dc3-8ac1-511b1a52c1ad')\"\n",
              "            title=\"Convert this dataframe to an interactive table.\"\n",
              "            style=\"display:none;\">\n",
              "\n",
              "  <svg xmlns=\"http://www.w3.org/2000/svg\" height=\"24px\" viewBox=\"0 -960 960 960\">\n",
              "    <path d=\"M120-120v-720h720v720H120Zm60-500h600v-160H180v160Zm220 220h160v-160H400v160Zm0 220h160v-160H400v160ZM180-400h160v-160H180v160Zm440 0h160v-160H620v160ZM180-180h160v-160H180v160Zm440 0h160v-160H620v160Z\"/>\n",
              "  </svg>\n",
              "    </button>\n",
              "\n",
              "  <style>\n",
              "    .colab-df-container {\n",
              "      display:flex;\n",
              "      gap: 12px;\n",
              "    }\n",
              "\n",
              "    .colab-df-convert {\n",
              "      background-color: #E8F0FE;\n",
              "      border: none;\n",
              "      border-radius: 50%;\n",
              "      cursor: pointer;\n",
              "      display: none;\n",
              "      fill: #1967D2;\n",
              "      height: 32px;\n",
              "      padding: 0 0 0 0;\n",
              "      width: 32px;\n",
              "    }\n",
              "\n",
              "    .colab-df-convert:hover {\n",
              "      background-color: #E2EBFA;\n",
              "      box-shadow: 0px 1px 2px rgba(60, 64, 67, 0.3), 0px 1px 3px 1px rgba(60, 64, 67, 0.15);\n",
              "      fill: #174EA6;\n",
              "    }\n",
              "\n",
              "    .colab-df-buttons div {\n",
              "      margin-bottom: 4px;\n",
              "    }\n",
              "\n",
              "    [theme=dark] .colab-df-convert {\n",
              "      background-color: #3B4455;\n",
              "      fill: #D2E3FC;\n",
              "    }\n",
              "\n",
              "    [theme=dark] .colab-df-convert:hover {\n",
              "      background-color: #434B5C;\n",
              "      box-shadow: 0px 1px 3px 1px rgba(0, 0, 0, 0.15);\n",
              "      filter: drop-shadow(0px 1px 2px rgba(0, 0, 0, 0.3));\n",
              "      fill: #FFFFFF;\n",
              "    }\n",
              "  </style>\n",
              "\n",
              "    <script>\n",
              "      const buttonEl =\n",
              "        document.querySelector('#df-ba557880-3c18-4dc3-8ac1-511b1a52c1ad button.colab-df-convert');\n",
              "      buttonEl.style.display =\n",
              "        google.colab.kernel.accessAllowed ? 'block' : 'none';\n",
              "\n",
              "      async function convertToInteractive(key) {\n",
              "        const element = document.querySelector('#df-ba557880-3c18-4dc3-8ac1-511b1a52c1ad');\n",
              "        const dataTable =\n",
              "          await google.colab.kernel.invokeFunction('convertToInteractive',\n",
              "                                                    [key], {});\n",
              "        if (!dataTable) return;\n",
              "\n",
              "        const docLinkHtml = 'Like what you see? Visit the ' +\n",
              "          '<a target=\"_blank\" href=https://colab.research.google.com/notebooks/data_table.ipynb>data table notebook</a>'\n",
              "          + ' to learn more about interactive tables.';\n",
              "        element.innerHTML = '';\n",
              "        dataTable['output_type'] = 'display_data';\n",
              "        await google.colab.output.renderOutput(dataTable, element);\n",
              "        const docLink = document.createElement('div');\n",
              "        docLink.innerHTML = docLinkHtml;\n",
              "        element.appendChild(docLink);\n",
              "      }\n",
              "    </script>\n",
              "  </div>\n",
              "\n",
              "\n",
              "    <div id=\"df-7ccf2dd3-d194-43f6-af33-1e7de4eb694a\">\n",
              "      <button class=\"colab-df-quickchart\" onclick=\"quickchart('df-7ccf2dd3-d194-43f6-af33-1e7de4eb694a')\"\n",
              "                title=\"Suggest charts\"\n",
              "                style=\"display:none;\">\n",
              "\n",
              "<svg xmlns=\"http://www.w3.org/2000/svg\" height=\"24px\"viewBox=\"0 0 24 24\"\n",
              "     width=\"24px\">\n",
              "    <g>\n",
              "        <path d=\"M19 3H5c-1.1 0-2 .9-2 2v14c0 1.1.9 2 2 2h14c1.1 0 2-.9 2-2V5c0-1.1-.9-2-2-2zM9 17H7v-7h2v7zm4 0h-2V7h2v10zm4 0h-2v-4h2v4z\"/>\n",
              "    </g>\n",
              "</svg>\n",
              "      </button>\n",
              "\n",
              "<style>\n",
              "  .colab-df-quickchart {\n",
              "      --bg-color: #E8F0FE;\n",
              "      --fill-color: #1967D2;\n",
              "      --hover-bg-color: #E2EBFA;\n",
              "      --hover-fill-color: #174EA6;\n",
              "      --disabled-fill-color: #AAA;\n",
              "      --disabled-bg-color: #DDD;\n",
              "  }\n",
              "\n",
              "  [theme=dark] .colab-df-quickchart {\n",
              "      --bg-color: #3B4455;\n",
              "      --fill-color: #D2E3FC;\n",
              "      --hover-bg-color: #434B5C;\n",
              "      --hover-fill-color: #FFFFFF;\n",
              "      --disabled-bg-color: #3B4455;\n",
              "      --disabled-fill-color: #666;\n",
              "  }\n",
              "\n",
              "  .colab-df-quickchart {\n",
              "    background-color: var(--bg-color);\n",
              "    border: none;\n",
              "    border-radius: 50%;\n",
              "    cursor: pointer;\n",
              "    display: none;\n",
              "    fill: var(--fill-color);\n",
              "    height: 32px;\n",
              "    padding: 0;\n",
              "    width: 32px;\n",
              "  }\n",
              "\n",
              "  .colab-df-quickchart:hover {\n",
              "    background-color: var(--hover-bg-color);\n",
              "    box-shadow: 0 1px 2px rgba(60, 64, 67, 0.3), 0 1px 3px 1px rgba(60, 64, 67, 0.15);\n",
              "    fill: var(--button-hover-fill-color);\n",
              "  }\n",
              "\n",
              "  .colab-df-quickchart-complete:disabled,\n",
              "  .colab-df-quickchart-complete:disabled:hover {\n",
              "    background-color: var(--disabled-bg-color);\n",
              "    fill: var(--disabled-fill-color);\n",
              "    box-shadow: none;\n",
              "  }\n",
              "\n",
              "  .colab-df-spinner {\n",
              "    border: 2px solid var(--fill-color);\n",
              "    border-color: transparent;\n",
              "    border-bottom-color: var(--fill-color);\n",
              "    animation:\n",
              "      spin 1s steps(1) infinite;\n",
              "  }\n",
              "\n",
              "  @keyframes spin {\n",
              "    0% {\n",
              "      border-color: transparent;\n",
              "      border-bottom-color: var(--fill-color);\n",
              "      border-left-color: var(--fill-color);\n",
              "    }\n",
              "    20% {\n",
              "      border-color: transparent;\n",
              "      border-left-color: var(--fill-color);\n",
              "      border-top-color: var(--fill-color);\n",
              "    }\n",
              "    30% {\n",
              "      border-color: transparent;\n",
              "      border-left-color: var(--fill-color);\n",
              "      border-top-color: var(--fill-color);\n",
              "      border-right-color: var(--fill-color);\n",
              "    }\n",
              "    40% {\n",
              "      border-color: transparent;\n",
              "      border-right-color: var(--fill-color);\n",
              "      border-top-color: var(--fill-color);\n",
              "    }\n",
              "    60% {\n",
              "      border-color: transparent;\n",
              "      border-right-color: var(--fill-color);\n",
              "    }\n",
              "    80% {\n",
              "      border-color: transparent;\n",
              "      border-right-color: var(--fill-color);\n",
              "      border-bottom-color: var(--fill-color);\n",
              "    }\n",
              "    90% {\n",
              "      border-color: transparent;\n",
              "      border-bottom-color: var(--fill-color);\n",
              "    }\n",
              "  }\n",
              "</style>\n",
              "\n",
              "      <script>\n",
              "        async function quickchart(key) {\n",
              "          const quickchartButtonEl =\n",
              "            document.querySelector('#' + key + ' button');\n",
              "          quickchartButtonEl.disabled = true;  // To prevent multiple clicks.\n",
              "          quickchartButtonEl.classList.add('colab-df-spinner');\n",
              "          try {\n",
              "            const charts = await google.colab.kernel.invokeFunction(\n",
              "                'suggestCharts', [key], {});\n",
              "          } catch (error) {\n",
              "            console.error('Error during call to suggestCharts:', error);\n",
              "          }\n",
              "          quickchartButtonEl.classList.remove('colab-df-spinner');\n",
              "          quickchartButtonEl.classList.add('colab-df-quickchart-complete');\n",
              "        }\n",
              "        (() => {\n",
              "          let quickchartButtonEl =\n",
              "            document.querySelector('#df-7ccf2dd3-d194-43f6-af33-1e7de4eb694a button');\n",
              "          quickchartButtonEl.style.display =\n",
              "            google.colab.kernel.accessAllowed ? 'block' : 'none';\n",
              "        })();\n",
              "      </script>\n",
              "    </div>\n",
              "\n",
              "    </div>\n",
              "  </div>\n"
            ],
            "application/vnd.google.colaboratory.intrinsic+json": {
              "type": "dataframe",
              "summary": "{\n  \"name\": \")\",\n  \"rows\": 15,\n  \"fields\": [\n    {\n      \"column\": \"movies_title\",\n      \"properties\": {\n        \"dtype\": \"string\",\n        \"num_unique_values\": 15,\n        \"samples\": [\n          \"Jumanji (1995)\",\n          \"American President, The (1995)\",\n          \"Billy's Holiday (1995)\"\n        ],\n        \"semantic_type\": \"\",\n        \"description\": \"\"\n      }\n    },\n    {\n      \"column\": \"romance\",\n      \"properties\": {\n        \"dtype\": \"number\",\n        \"std\": 0.32286324553046636,\n        \"min\": 0.0,\n        \"max\": 0.854148595283784,\n        \"num_unique_values\": 5,\n        \"samples\": [\n          0.854148595283784,\n          0.36675043219067904,\n          0.7205543904872812\n        ],\n        \"semantic_type\": \"\",\n        \"description\": \"\"\n      }\n    },\n    {\n      \"column\": \"unknown\",\n      \"properties\": {\n        \"dtype\": \"number\",\n        \"std\": 0.0,\n        \"min\": 0.0,\n        \"max\": 0.0,\n        \"num_unique_values\": 1,\n        \"samples\": [\n          0.0\n        ],\n        \"semantic_type\": \"\",\n        \"description\": \"\"\n      }\n    },\n    {\n      \"column\": \"war\",\n      \"properties\": {\n        \"dtype\": \"number\",\n        \"std\": 0.0,\n        \"min\": 0.0,\n        \"max\": 0.0,\n        \"num_unique_values\": 1,\n        \"samples\": [\n          0.0\n        ],\n        \"semantic_type\": \"\",\n        \"description\": \"\"\n      }\n    },\n    {\n      \"column\": \"adventure\",\n      \"properties\": {\n        \"dtype\": \"number\",\n        \"std\": 0.24411734441864452,\n        \"min\": 0.0,\n        \"max\": 0.6580908109955138,\n        \"num_unique_values\": 4,\n        \"samples\": [\n          0.5441800004696411\n        ],\n        \"semantic_type\": \"\",\n        \"description\": \"\"\n      }\n    },\n    {\n      \"column\": \"musical\",\n      \"properties\": {\n        \"dtype\": \"number\",\n        \"std\": 0.27796902159916836,\n        \"min\": 0.0,\n        \"max\": 0.9373377002695891,\n        \"num_unique_values\": 3,\n        \"samples\": [\n          0.9373377002695891\n        ],\n        \"semantic_type\": \"\",\n        \"description\": \"\"\n      }\n    },\n    {\n      \"column\": \"drama\",\n      \"properties\": {\n        \"dtype\": \"number\",\n        \"std\": 0.2966538400315717,\n        \"min\": 0.0,\n        \"max\": 1.0,\n        \"num_unique_values\": 9,\n        \"samples\": [\n          0.22328768941896496\n        ],\n        \"semantic_type\": \"\",\n        \"description\": \"\"\n      }\n    },\n    {\n      \"column\": \"scifi\",\n      \"properties\": {\n        \"dtype\": \"number\",\n        \"std\": 0.27175925625466796,\n        \"min\": 0.0,\n        \"max\": 0.8567331662763314,\n        \"num_unique_values\": 3,\n        \"samples\": [\n          0.0\n        ],\n        \"semantic_type\": \"\",\n        \"description\": \"\"\n      }\n    },\n    {\n      \"column\": \"children\",\n      \"properties\": {\n        \"dtype\": \"number\",\n        \"std\": 0.2292559405145202,\n        \"min\": 0.0,\n        \"max\": 0.5879629496631488,\n        \"num_unique_values\": 4,\n        \"samples\": [\n          0.5863395265284583\n        ],\n        \"semantic_type\": \"\",\n        \"description\": \"\"\n      }\n    },\n    {\n      \"column\": \"thriller\",\n      \"properties\": {\n        \"dtype\": \"number\",\n        \"std\": 0.16055928049483884,\n        \"min\": 0.0,\n        \"max\": 0.468822939982643,\n        \"num_unique_values\": 3,\n        \"samples\": [\n          0.0\n        ],\n        \"semantic_type\": \"\",\n        \"description\": \"\"\n      }\n    },\n    {\n      \"column\": \"animation\",\n      \"properties\": {\n        \"dtype\": \"number\",\n        \"std\": 0.1876069780068858,\n        \"min\": 0.0,\n        \"max\": 0.5840708490257742,\n        \"num_unique_values\": 3,\n        \"samples\": [\n          0.0\n        ],\n        \"semantic_type\": \"\",\n        \"description\": \"\"\n      }\n    },\n    {\n      \"column\": \"action\",\n      \"properties\": {\n        \"dtype\": \"number\",\n        \"std\": 0.1216959652531698,\n        \"min\": 0.0,\n        \"max\": 0.4713264467261631,\n        \"num_unique_values\": 2,\n        \"samples\": [\n          0.4713264467261631\n        ],\n        \"semantic_type\": \"\",\n        \"description\": \"\"\n      }\n    },\n    {\n      \"column\": \"documentary\",\n      \"properties\": {\n        \"dtype\": \"number\",\n        \"std\": 0.25819888974716115,\n        \"min\": 0.0,\n        \"max\": 1.0,\n        \"num_unique_values\": 2,\n        \"samples\": [\n          1.0\n        ],\n        \"semantic_type\": \"\",\n        \"description\": \"\"\n      }\n    },\n    {\n      \"column\": \"mystery\",\n      \"properties\": {\n        \"dtype\": \"number\",\n        \"std\": 0.16591393235300964,\n        \"min\": 0.0,\n        \"max\": 0.6425818969069904,\n        \"num_unique_values\": 2,\n        \"samples\": [\n          0.6425818969069904\n        ],\n        \"semantic_type\": \"\",\n        \"description\": \"\"\n      }\n    },\n    {\n      \"column\": \"western\",\n      \"properties\": {\n        \"dtype\": \"number\",\n        \"std\": 0.0,\n        \"min\": 0.0,\n        \"max\": 0.0,\n        \"num_unique_values\": 1,\n        \"samples\": [\n          0.0\n        ],\n        \"semantic_type\": \"\",\n        \"description\": \"\"\n      }\n    },\n    {\n      \"column\": \"filmnoir\",\n      \"properties\": {\n        \"dtype\": \"number\",\n        \"std\": 0.0,\n        \"min\": 0.0,\n        \"max\": 0.0,\n        \"num_unique_values\": 1,\n        \"samples\": [\n          0.0\n        ],\n        \"semantic_type\": \"\",\n        \"description\": \"\"\n      }\n    },\n    {\n      \"column\": \"fantasy\",\n      \"properties\": {\n        \"dtype\": \"number\",\n        \"std\": 0.15452458206000122,\n        \"min\": 0.0,\n        \"max\": 0.5984711328980463,\n        \"num_unique_values\": 2,\n        \"samples\": [\n          0.5984711328980463\n        ],\n        \"semantic_type\": \"\",\n        \"description\": \"\"\n      }\n    },\n    {\n      \"column\": \"imax\",\n      \"properties\": {\n        \"dtype\": \"number\",\n        \"std\": 0.0,\n        \"min\": 0.0,\n        \"max\": 0.0,\n        \"num_unique_values\": 1,\n        \"samples\": [\n          0.0\n        ],\n        \"semantic_type\": \"\",\n        \"description\": \"\"\n      }\n    },\n    {\n      \"column\": \"crime\",\n      \"properties\": {\n        \"dtype\": \"number\",\n        \"std\": 0.1340452208654742,\n        \"min\": 0.0,\n        \"max\": 0.5191549080506765,\n        \"num_unique_values\": 2,\n        \"samples\": [\n          0.5191549080506765\n        ],\n        \"semantic_type\": \"\",\n        \"description\": \"\"\n      }\n    },\n    {\n      \"column\": \"comedy\",\n      \"properties\": {\n        \"dtype\": \"number\",\n        \"std\": 0.342520894147692,\n        \"min\": 0.0,\n        \"max\": 1.0,\n        \"num_unique_values\": 6,\n        \"samples\": [\n          0.0\n        ],\n        \"semantic_type\": \"\",\n        \"description\": \"\"\n      }\n    },\n    {\n      \"column\": \"horror\",\n      \"properties\": {\n        \"dtype\": \"number\",\n        \"std\": 0.13624252810635576,\n        \"min\": 0.0,\n        \"max\": 0.5276650424011116,\n        \"num_unique_values\": 2,\n        \"samples\": [\n          0.5276650424011116\n        ],\n        \"semantic_type\": \"\",\n        \"description\": \"\"\n      }\n    }\n  ]\n}"
            }
          },
          "metadata": {},
          "execution_count": 33
        }
      ]
    },
    {
      "cell_type": "markdown",
      "source": [
        "**Output:** menunjukkan film Maya Lin: A Strong Clear Vision (1994) memiliki kategori yaitu documentary. Hal ini terlihat dari nilai matriks 1.0 pada kategori comedy. Untuk film Basketball Diaries, The (1995) memiliki kategori drama."
      ],
      "metadata": {
        "id": "RTCV3rTRq917"
      }
    },
    {
      "cell_type": "markdown",
      "source": [
        "### **Cosine Similarity**\n",
        "Tahapan ini dilakukan untuk menghitung derajat kesamaan (similarity degree) dengan teknik cosine similarity."
      ],
      "metadata": {
        "id": "EgWlVnapTL82"
      }
    },
    {
      "cell_type": "markdown",
      "source": [
        "Melakukan perhitungan cosine similarity pada matrix tf-idf menggunakan fungsi `cosine_similarity` pada data `tfidf_limit`."
      ],
      "metadata": {
        "id": "-67TKggns6oQ"
      }
    },
    {
      "cell_type": "code",
      "source": [
        "# Menghitung cosine similarity pada matrix tf-idf\n",
        "cosine_sim = cosine_similarity(tfidf_limit)\n",
        "cosine_sim"
      ],
      "metadata": {
        "id": "EhQbNjF3S_Vq"
      },
      "execution_count": null,
      "outputs": []
    },
    {
      "cell_type": "markdown",
      "source": [
        "**Output:** menghasilkan keluaran berupa matriks kesamaan dalam bentuk array."
      ],
      "metadata": {
        "id": "xQZR9DjYtS0F"
      }
    },
    {
      "cell_type": "markdown",
      "source": [
        "Melakukan peninjauan matriks kesamaan setiap movie dengan menampilkan judul movie dalam 5 sampel kolom (axis = 1) dan 9 sampel baris (axis=0)"
      ],
      "metadata": {
        "id": "hS2fWEsqtYW1"
      }
    },
    {
      "cell_type": "code",
      "source": [
        "# Membuat dataframe dari variabel cosine_sim dengan baris dan kolom berupa nama movie\n",
        "cosine_sim_df = pd.DataFrame(cosine_sim, index=data['movies_title'][:1000], columns=data['movies_title'][:1000])\n",
        "print('Shape:', cosine_sim_df.shape)\n",
        "\n",
        "# Melihat similarity matrix pada setiap movie\n",
        "cosine_sim_df.sample(5, axis=1).sample(10, axis=0)"
      ],
      "metadata": {
        "colab": {
          "base_uri": "https://localhost:8080/",
          "height": 412
        },
        "id": "Lcz2yVeiTR5L",
        "outputId": "47b2df23-873f-40cc-dce6-e517b0fd3a0d"
      },
      "execution_count": 35,
      "outputs": [
        {
          "output_type": "stream",
          "name": "stdout",
          "text": [
            "Shape: (1000, 1000)\n"
          ]
        },
        {
          "output_type": "execute_result",
          "data": {
            "text/plain": [
              "movies_title                                        To Cross the Rubicon (1991)  \\\n",
              "movies_title                                                                      \n",
              "Cowboy Way, The (1994)                                                 0.434648   \n",
              "Ghost and Mrs. Muir, The (1947)                                        0.344181   \n",
              "Mr. Wonderful (1993)                                                   0.000000   \n",
              "Shallow Grave (1994)                                                   0.448484   \n",
              "D3: The Mighty Ducks (1996)                                            0.000000   \n",
              "Barb Wire (1996)                                                       0.000000   \n",
              "Beyond Bedlam (1993)                                                   0.491874   \n",
              "Death in Brunswick (1991)                                              0.000000   \n",
              "Surviving the Game (1994)                                              0.000000   \n",
              "Highlander III: The Sorcerer (a.k.a. Highlander...                     0.000000   \n",
              "\n",
              "movies_title                                        Anne Frank Remembered (1995)  \\\n",
              "movies_title                                                                       \n",
              "Cowboy Way, The (1994)                                                       0.0   \n",
              "Ghost and Mrs. Muir, The (1947)                                              0.0   \n",
              "Mr. Wonderful (1993)                                                         0.0   \n",
              "Shallow Grave (1994)                                                         0.0   \n",
              "D3: The Mighty Ducks (1996)                                                  0.0   \n",
              "Barb Wire (1996)                                                             0.0   \n",
              "Beyond Bedlam (1993)                                                         0.0   \n",
              "Death in Brunswick (1991)                                                    0.0   \n",
              "Surviving the Game (1994)                                                    0.0   \n",
              "Highlander III: The Sorcerer (a.k.a. Highlander...                           0.0   \n",
              "\n",
              "movies_title                                        Mr. Jones (1993)  \\\n",
              "movies_title                                                           \n",
              "Cowboy Way, The (1994)                                      0.226030   \n",
              "Ghost and Mrs. Muir, The (1947)                             0.661849   \n",
              "Mr. Wonderful (1993)                                        0.684882   \n",
              "Shallow Grave (1994)                                        0.233225   \n",
              "D3: The Mighty Ducks (1996)                                 0.000000   \n",
              "Barb Wire (1996)                                            0.000000   \n",
              "Beyond Bedlam (1993)                                        0.255789   \n",
              "Death in Brunswick (1991)                                   0.000000   \n",
              "Surviving the Game (1994)                                   0.000000   \n",
              "Highlander III: The Sorcerer (a.k.a. Highlander...          0.000000   \n",
              "\n",
              "movies_title                                        Harriet the Spy (1996)  \\\n",
              "movies_title                                                                 \n",
              "Cowboy Way, The (1994)                                            0.264175   \n",
              "Ghost and Mrs. Muir, The (1947)                                   0.000000   \n",
              "Mr. Wonderful (1993)                                              0.296708   \n",
              "Shallow Grave (1994)                                              0.272584   \n",
              "D3: The Mighty Ducks (1996)                                       1.000000   \n",
              "Barb Wire (1996)                                                  0.000000   \n",
              "Beyond Bedlam (1993)                                              0.000000   \n",
              "Death in Brunswick (1991)                                         0.496540   \n",
              "Surviving the Game (1994)                                         0.000000   \n",
              "Highlander III: The Sorcerer (a.k.a. Highlander...                0.000000   \n",
              "\n",
              "movies_title                                        Maya Lin: A Strong Clear Vision (1994)  \n",
              "movies_title                                                                                \n",
              "Cowboy Way, The (1994)                                                                 0.0  \n",
              "Ghost and Mrs. Muir, The (1947)                                                        0.0  \n",
              "Mr. Wonderful (1993)                                                                   0.0  \n",
              "Shallow Grave (1994)                                                                   0.0  \n",
              "D3: The Mighty Ducks (1996)                                                            0.0  \n",
              "Barb Wire (1996)                                                                       0.0  \n",
              "Beyond Bedlam (1993)                                                                   0.0  \n",
              "Death in Brunswick (1991)                                                              0.0  \n",
              "Surviving the Game (1994)                                                              0.0  \n",
              "Highlander III: The Sorcerer (a.k.a. Highlander...                                     0.0  "
            ],
            "text/html": [
              "\n",
              "  <div id=\"df-58e4c2bf-3211-4d0a-8b24-d19e7f5ba504\" class=\"colab-df-container\">\n",
              "    <div>\n",
              "<style scoped>\n",
              "    .dataframe tbody tr th:only-of-type {\n",
              "        vertical-align: middle;\n",
              "    }\n",
              "\n",
              "    .dataframe tbody tr th {\n",
              "        vertical-align: top;\n",
              "    }\n",
              "\n",
              "    .dataframe thead th {\n",
              "        text-align: right;\n",
              "    }\n",
              "</style>\n",
              "<table border=\"1\" class=\"dataframe\">\n",
              "  <thead>\n",
              "    <tr style=\"text-align: right;\">\n",
              "      <th>movies_title</th>\n",
              "      <th>To Cross the Rubicon (1991)</th>\n",
              "      <th>Anne Frank Remembered (1995)</th>\n",
              "      <th>Mr. Jones (1993)</th>\n",
              "      <th>Harriet the Spy (1996)</th>\n",
              "      <th>Maya Lin: A Strong Clear Vision (1994)</th>\n",
              "    </tr>\n",
              "    <tr>\n",
              "      <th>movies_title</th>\n",
              "      <th></th>\n",
              "      <th></th>\n",
              "      <th></th>\n",
              "      <th></th>\n",
              "      <th></th>\n",
              "    </tr>\n",
              "  </thead>\n",
              "  <tbody>\n",
              "    <tr>\n",
              "      <th>Cowboy Way, The (1994)</th>\n",
              "      <td>0.434648</td>\n",
              "      <td>0.0</td>\n",
              "      <td>0.226030</td>\n",
              "      <td>0.264175</td>\n",
              "      <td>0.0</td>\n",
              "    </tr>\n",
              "    <tr>\n",
              "      <th>Ghost and Mrs. Muir, The (1947)</th>\n",
              "      <td>0.344181</td>\n",
              "      <td>0.0</td>\n",
              "      <td>0.661849</td>\n",
              "      <td>0.000000</td>\n",
              "      <td>0.0</td>\n",
              "    </tr>\n",
              "    <tr>\n",
              "      <th>Mr. Wonderful (1993)</th>\n",
              "      <td>0.000000</td>\n",
              "      <td>0.0</td>\n",
              "      <td>0.684882</td>\n",
              "      <td>0.296708</td>\n",
              "      <td>0.0</td>\n",
              "    </tr>\n",
              "    <tr>\n",
              "      <th>Shallow Grave (1994)</th>\n",
              "      <td>0.448484</td>\n",
              "      <td>0.0</td>\n",
              "      <td>0.233225</td>\n",
              "      <td>0.272584</td>\n",
              "      <td>0.0</td>\n",
              "    </tr>\n",
              "    <tr>\n",
              "      <th>D3: The Mighty Ducks (1996)</th>\n",
              "      <td>0.000000</td>\n",
              "      <td>0.0</td>\n",
              "      <td>0.000000</td>\n",
              "      <td>1.000000</td>\n",
              "      <td>0.0</td>\n",
              "    </tr>\n",
              "    <tr>\n",
              "      <th>Barb Wire (1996)</th>\n",
              "      <td>0.000000</td>\n",
              "      <td>0.0</td>\n",
              "      <td>0.000000</td>\n",
              "      <td>0.000000</td>\n",
              "      <td>0.0</td>\n",
              "    </tr>\n",
              "    <tr>\n",
              "      <th>Beyond Bedlam (1993)</th>\n",
              "      <td>0.491874</td>\n",
              "      <td>0.0</td>\n",
              "      <td>0.255789</td>\n",
              "      <td>0.000000</td>\n",
              "      <td>0.0</td>\n",
              "    </tr>\n",
              "    <tr>\n",
              "      <th>Death in Brunswick (1991)</th>\n",
              "      <td>0.000000</td>\n",
              "      <td>0.0</td>\n",
              "      <td>0.000000</td>\n",
              "      <td>0.496540</td>\n",
              "      <td>0.0</td>\n",
              "    </tr>\n",
              "    <tr>\n",
              "      <th>Surviving the Game (1994)</th>\n",
              "      <td>0.000000</td>\n",
              "      <td>0.0</td>\n",
              "      <td>0.000000</td>\n",
              "      <td>0.000000</td>\n",
              "      <td>0.0</td>\n",
              "    </tr>\n",
              "    <tr>\n",
              "      <th>Highlander III: The Sorcerer (a.k.a. Highlander: The Final Dimension) (1994)</th>\n",
              "      <td>0.000000</td>\n",
              "      <td>0.0</td>\n",
              "      <td>0.000000</td>\n",
              "      <td>0.000000</td>\n",
              "      <td>0.0</td>\n",
              "    </tr>\n",
              "  </tbody>\n",
              "</table>\n",
              "</div>\n",
              "    <div class=\"colab-df-buttons\">\n",
              "\n",
              "  <div class=\"colab-df-container\">\n",
              "    <button class=\"colab-df-convert\" onclick=\"convertToInteractive('df-58e4c2bf-3211-4d0a-8b24-d19e7f5ba504')\"\n",
              "            title=\"Convert this dataframe to an interactive table.\"\n",
              "            style=\"display:none;\">\n",
              "\n",
              "  <svg xmlns=\"http://www.w3.org/2000/svg\" height=\"24px\" viewBox=\"0 -960 960 960\">\n",
              "    <path d=\"M120-120v-720h720v720H120Zm60-500h600v-160H180v160Zm220 220h160v-160H400v160Zm0 220h160v-160H400v160ZM180-400h160v-160H180v160Zm440 0h160v-160H620v160ZM180-180h160v-160H180v160Zm440 0h160v-160H620v160Z\"/>\n",
              "  </svg>\n",
              "    </button>\n",
              "\n",
              "  <style>\n",
              "    .colab-df-container {\n",
              "      display:flex;\n",
              "      gap: 12px;\n",
              "    }\n",
              "\n",
              "    .colab-df-convert {\n",
              "      background-color: #E8F0FE;\n",
              "      border: none;\n",
              "      border-radius: 50%;\n",
              "      cursor: pointer;\n",
              "      display: none;\n",
              "      fill: #1967D2;\n",
              "      height: 32px;\n",
              "      padding: 0 0 0 0;\n",
              "      width: 32px;\n",
              "    }\n",
              "\n",
              "    .colab-df-convert:hover {\n",
              "      background-color: #E2EBFA;\n",
              "      box-shadow: 0px 1px 2px rgba(60, 64, 67, 0.3), 0px 1px 3px 1px rgba(60, 64, 67, 0.15);\n",
              "      fill: #174EA6;\n",
              "    }\n",
              "\n",
              "    .colab-df-buttons div {\n",
              "      margin-bottom: 4px;\n",
              "    }\n",
              "\n",
              "    [theme=dark] .colab-df-convert {\n",
              "      background-color: #3B4455;\n",
              "      fill: #D2E3FC;\n",
              "    }\n",
              "\n",
              "    [theme=dark] .colab-df-convert:hover {\n",
              "      background-color: #434B5C;\n",
              "      box-shadow: 0px 1px 3px 1px rgba(0, 0, 0, 0.15);\n",
              "      filter: drop-shadow(0px 1px 2px rgba(0, 0, 0, 0.3));\n",
              "      fill: #FFFFFF;\n",
              "    }\n",
              "  </style>\n",
              "\n",
              "    <script>\n",
              "      const buttonEl =\n",
              "        document.querySelector('#df-58e4c2bf-3211-4d0a-8b24-d19e7f5ba504 button.colab-df-convert');\n",
              "      buttonEl.style.display =\n",
              "        google.colab.kernel.accessAllowed ? 'block' : 'none';\n",
              "\n",
              "      async function convertToInteractive(key) {\n",
              "        const element = document.querySelector('#df-58e4c2bf-3211-4d0a-8b24-d19e7f5ba504');\n",
              "        const dataTable =\n",
              "          await google.colab.kernel.invokeFunction('convertToInteractive',\n",
              "                                                    [key], {});\n",
              "        if (!dataTable) return;\n",
              "\n",
              "        const docLinkHtml = 'Like what you see? Visit the ' +\n",
              "          '<a target=\"_blank\" href=https://colab.research.google.com/notebooks/data_table.ipynb>data table notebook</a>'\n",
              "          + ' to learn more about interactive tables.';\n",
              "        element.innerHTML = '';\n",
              "        dataTable['output_type'] = 'display_data';\n",
              "        await google.colab.output.renderOutput(dataTable, element);\n",
              "        const docLink = document.createElement('div');\n",
              "        docLink.innerHTML = docLinkHtml;\n",
              "        element.appendChild(docLink);\n",
              "      }\n",
              "    </script>\n",
              "  </div>\n",
              "\n",
              "\n",
              "    <div id=\"df-bd983bbf-a490-4d1c-9550-2a0aeded5a6f\">\n",
              "      <button class=\"colab-df-quickchart\" onclick=\"quickchart('df-bd983bbf-a490-4d1c-9550-2a0aeded5a6f')\"\n",
              "                title=\"Suggest charts\"\n",
              "                style=\"display:none;\">\n",
              "\n",
              "<svg xmlns=\"http://www.w3.org/2000/svg\" height=\"24px\"viewBox=\"0 0 24 24\"\n",
              "     width=\"24px\">\n",
              "    <g>\n",
              "        <path d=\"M19 3H5c-1.1 0-2 .9-2 2v14c0 1.1.9 2 2 2h14c1.1 0 2-.9 2-2V5c0-1.1-.9-2-2-2zM9 17H7v-7h2v7zm4 0h-2V7h2v10zm4 0h-2v-4h2v4z\"/>\n",
              "    </g>\n",
              "</svg>\n",
              "      </button>\n",
              "\n",
              "<style>\n",
              "  .colab-df-quickchart {\n",
              "      --bg-color: #E8F0FE;\n",
              "      --fill-color: #1967D2;\n",
              "      --hover-bg-color: #E2EBFA;\n",
              "      --hover-fill-color: #174EA6;\n",
              "      --disabled-fill-color: #AAA;\n",
              "      --disabled-bg-color: #DDD;\n",
              "  }\n",
              "\n",
              "  [theme=dark] .colab-df-quickchart {\n",
              "      --bg-color: #3B4455;\n",
              "      --fill-color: #D2E3FC;\n",
              "      --hover-bg-color: #434B5C;\n",
              "      --hover-fill-color: #FFFFFF;\n",
              "      --disabled-bg-color: #3B4455;\n",
              "      --disabled-fill-color: #666;\n",
              "  }\n",
              "\n",
              "  .colab-df-quickchart {\n",
              "    background-color: var(--bg-color);\n",
              "    border: none;\n",
              "    border-radius: 50%;\n",
              "    cursor: pointer;\n",
              "    display: none;\n",
              "    fill: var(--fill-color);\n",
              "    height: 32px;\n",
              "    padding: 0;\n",
              "    width: 32px;\n",
              "  }\n",
              "\n",
              "  .colab-df-quickchart:hover {\n",
              "    background-color: var(--hover-bg-color);\n",
              "    box-shadow: 0 1px 2px rgba(60, 64, 67, 0.3), 0 1px 3px 1px rgba(60, 64, 67, 0.15);\n",
              "    fill: var(--button-hover-fill-color);\n",
              "  }\n",
              "\n",
              "  .colab-df-quickchart-complete:disabled,\n",
              "  .colab-df-quickchart-complete:disabled:hover {\n",
              "    background-color: var(--disabled-bg-color);\n",
              "    fill: var(--disabled-fill-color);\n",
              "    box-shadow: none;\n",
              "  }\n",
              "\n",
              "  .colab-df-spinner {\n",
              "    border: 2px solid var(--fill-color);\n",
              "    border-color: transparent;\n",
              "    border-bottom-color: var(--fill-color);\n",
              "    animation:\n",
              "      spin 1s steps(1) infinite;\n",
              "  }\n",
              "\n",
              "  @keyframes spin {\n",
              "    0% {\n",
              "      border-color: transparent;\n",
              "      border-bottom-color: var(--fill-color);\n",
              "      border-left-color: var(--fill-color);\n",
              "    }\n",
              "    20% {\n",
              "      border-color: transparent;\n",
              "      border-left-color: var(--fill-color);\n",
              "      border-top-color: var(--fill-color);\n",
              "    }\n",
              "    30% {\n",
              "      border-color: transparent;\n",
              "      border-left-color: var(--fill-color);\n",
              "      border-top-color: var(--fill-color);\n",
              "      border-right-color: var(--fill-color);\n",
              "    }\n",
              "    40% {\n",
              "      border-color: transparent;\n",
              "      border-right-color: var(--fill-color);\n",
              "      border-top-color: var(--fill-color);\n",
              "    }\n",
              "    60% {\n",
              "      border-color: transparent;\n",
              "      border-right-color: var(--fill-color);\n",
              "    }\n",
              "    80% {\n",
              "      border-color: transparent;\n",
              "      border-right-color: var(--fill-color);\n",
              "      border-bottom-color: var(--fill-color);\n",
              "    }\n",
              "    90% {\n",
              "      border-color: transparent;\n",
              "      border-bottom-color: var(--fill-color);\n",
              "    }\n",
              "  }\n",
              "</style>\n",
              "\n",
              "      <script>\n",
              "        async function quickchart(key) {\n",
              "          const quickchartButtonEl =\n",
              "            document.querySelector('#' + key + ' button');\n",
              "          quickchartButtonEl.disabled = true;  // To prevent multiple clicks.\n",
              "          quickchartButtonEl.classList.add('colab-df-spinner');\n",
              "          try {\n",
              "            const charts = await google.colab.kernel.invokeFunction(\n",
              "                'suggestCharts', [key], {});\n",
              "          } catch (error) {\n",
              "            console.error('Error during call to suggestCharts:', error);\n",
              "          }\n",
              "          quickchartButtonEl.classList.remove('colab-df-spinner');\n",
              "          quickchartButtonEl.classList.add('colab-df-quickchart-complete');\n",
              "        }\n",
              "        (() => {\n",
              "          let quickchartButtonEl =\n",
              "            document.querySelector('#df-bd983bbf-a490-4d1c-9550-2a0aeded5a6f button');\n",
              "          quickchartButtonEl.style.display =\n",
              "            google.colab.kernel.accessAllowed ? 'block' : 'none';\n",
              "        })();\n",
              "      </script>\n",
              "    </div>\n",
              "\n",
              "    </div>\n",
              "  </div>\n"
            ],
            "application/vnd.google.colaboratory.intrinsic+json": {
              "type": "dataframe",
              "summary": "{\n  \"name\": \"cosine_sim_df\",\n  \"rows\": 10,\n  \"fields\": [\n    {\n      \"column\": \"movies_title\",\n      \"properties\": {\n        \"dtype\": \"string\",\n        \"num_unique_values\": 10,\n        \"samples\": [\n          \"Surviving the Game (1994)\",\n          \"Ghost and Mrs. Muir, The (1947)\",\n          \"Barb Wire (1996)\"\n        ],\n        \"semantic_type\": \"\",\n        \"description\": \"\"\n      }\n    },\n    {\n      \"column\": \"To Cross the Rubicon (1991)\",\n      \"properties\": {\n        \"dtype\": \"number\",\n        \"std\": 0.2248202903800834,\n        \"min\": 0.0,\n        \"max\": 0.4918744010859996,\n        \"num_unique_values\": 5,\n        \"samples\": [\n          0.3441808950777851,\n          0.4918744010859996,\n          0.0\n        ],\n        \"semantic_type\": \"\",\n        \"description\": \"\"\n      }\n    },\n    {\n      \"column\": \"Anne Frank Remembered (1995)\",\n      \"properties\": {\n        \"dtype\": \"number\",\n        \"std\": 0.0,\n        \"min\": 0.0,\n        \"max\": 0.0,\n        \"num_unique_values\": 1,\n        \"samples\": [\n          0.0\n        ],\n        \"semantic_type\": \"\",\n        \"description\": \"\"\n      }\n    },\n    {\n      \"column\": \"Mr. Jones (1993)\",\n      \"properties\": {\n        \"dtype\": \"number\",\n        \"std\": 0.26934652678949217,\n        \"min\": 0.0,\n        \"max\": 0.6848823201134715,\n        \"num_unique_values\": 6,\n        \"samples\": [\n          0.22602962435431162\n        ],\n        \"semantic_type\": \"\",\n        \"description\": \"\"\n      }\n    },\n    {\n      \"column\": \"Harriet the Spy (1996)\",\n      \"properties\": {\n        \"dtype\": \"number\",\n        \"std\": 0.3224532683823911,\n        \"min\": 0.0,\n        \"max\": 1.0000000000000002,\n        \"num_unique_values\": 6,\n        \"samples\": [\n          0.2641745890074024\n        ],\n        \"semantic_type\": \"\",\n        \"description\": \"\"\n      }\n    },\n    {\n      \"column\": \"Maya Lin: A Strong Clear Vision (1994)\",\n      \"properties\": {\n        \"dtype\": \"number\",\n        \"std\": 0.0,\n        \"min\": 0.0,\n        \"max\": 0.0,\n        \"num_unique_values\": 1,\n        \"samples\": [\n          0.0\n        ],\n        \"semantic_type\": \"\",\n        \"description\": \"\"\n      }\n    }\n  ]\n}"
            }
          },
          "metadata": {},
          "execution_count": 35
        }
      ]
    },
    {
      "cell_type": "markdown",
      "source": [
        "**Output:** berhasil mengidentifikasi kesamaan antara satu film dengan film lainnya. Shape yang digunakan yaitu (1000, 1000) merupakan ukuran matriks similarity dari data yang dimiliki. Berdasarkan data yang ada, matriks di atas sebenarnya berukuran 1000 judul film x 1000 judul film (masing-masing dalam sumbu X dan Y). Artinya, mengidentifikasi tingkat kesamaan pada 1000 judul film. Hanya memilih 10 judul film pada baris vertikal dan 5 judul film pada sumbu horizontal. Diketahui bahwa angka 1.0 mengindikasikan bahwa film pada kolom X (horizontal) memiliki kesamaan dengan film pada baris Y (vertikal). Hal tersebut dapat dilihat pada film D3: The Mighty Ducks (1996) yang teridentifikasi sama (similar) dengan film Harriet the Spy (1996)."
      ],
      "metadata": {
        "id": "3H_MCJQft6p1"
      }
    },
    {
      "cell_type": "markdown",
      "source": [
        "### **Mendapatkan Rekomendasi**\n",
        "Tahapan untuk melakukan proses rekomendasi film."
      ],
      "metadata": {
        "id": "1znuF-3PVRKR"
      }
    },
    {
      "cell_type": "markdown",
      "source": [
        "Pada tahapan ini membuat fungsi `def movies_recommendations` yang terdiri dari beberapa parameter sebagai berikut:\n",
        "- Judul_film: judul_film (index kemiripan dataframe).\n",
        "- Similarity_data : Dataframe mengenai similarity yang telah kita definisikan sebelumnya yaitu `cosine_sim_df`.\n",
        "- Items : judul dan genre yang digunakan untuk mendefinisikan kemiripan, dalam hal ini adalah `movies_title` dan `genres`.\n",
        "- k : Banyak rekomendasi yang ingin diberikan yaitu berjumlah 5."
      ],
      "metadata": {
        "id": "HvRtYRDnh7WO"
      }
    },
    {
      "cell_type": "code",
      "source": [
        "def movies_recommendations(judul_film, similarity_data=cosine_sim_df, items=data[['movies_title', 'genres']], k=5):\n",
        "\n",
        "    # Mengambil data dengan menggunakan argpartition untuk melakukan partisi secara tidak langsung sepanjang sumbu yang diberikan\n",
        "    # Dataframe diubah menjadi numpy\n",
        "    # Range(start, stop, step)\n",
        "    index = similarity_data.loc[:,judul_film].to_numpy().argpartition(\n",
        "        range(-1, -k, -1))\n",
        "\n",
        "    # Mengambil data dengan similarity terbesar dari index yang ada\n",
        "    closest = similarity_data.columns[index[-1:-(k+2):-1]]\n",
        "\n",
        "    # Drop judul_film agar nama movie yang dicari tidak muncul dalam daftar rekomendasi\n",
        "    closest = closest.drop(judul_film, errors='ignore')\n",
        "\n",
        "    return pd.DataFrame(closest).merge(items).head(k)"
      ],
      "metadata": {
        "id": "XkS-uSkaVOXC"
      },
      "execution_count": null,
      "outputs": []
    },
    {
      "cell_type": "markdown",
      "source": [
        "Implementasi kode `def movies_recommendation` untuk menemukan rekomendasi film yang mirip dengan `Toy Story (1995)`."
      ],
      "metadata": {
        "id": "HL_kojY-ips1"
      }
    },
    {
      "cell_type": "code",
      "source": [
        "data[data.movies_title.eq('Toy Story (1995)')]"
      ],
      "metadata": {
        "colab": {
          "base_uri": "https://localhost:8080/",
          "height": 81
        },
        "id": "E8-bsGlaYH1L",
        "outputId": "756b7e4b-257e-4fa2-f44c-c3d1f567e275"
      },
      "execution_count": 37,
      "outputs": [
        {
          "output_type": "execute_result",
          "data": {
            "text/plain": [
              "   id      movies_title                                           genres\n",
              "0   1  Toy Story (1995)  Adventure, Animation, Children, Comedy, Fantasy"
            ],
            "text/html": [
              "\n",
              "  <div id=\"df-5fa977bd-76fc-4d0b-b341-620bd6b7c6c1\" class=\"colab-df-container\">\n",
              "    <div>\n",
              "<style scoped>\n",
              "    .dataframe tbody tr th:only-of-type {\n",
              "        vertical-align: middle;\n",
              "    }\n",
              "\n",
              "    .dataframe tbody tr th {\n",
              "        vertical-align: top;\n",
              "    }\n",
              "\n",
              "    .dataframe thead th {\n",
              "        text-align: right;\n",
              "    }\n",
              "</style>\n",
              "<table border=\"1\" class=\"dataframe\">\n",
              "  <thead>\n",
              "    <tr style=\"text-align: right;\">\n",
              "      <th></th>\n",
              "      <th>id</th>\n",
              "      <th>movies_title</th>\n",
              "      <th>genres</th>\n",
              "    </tr>\n",
              "  </thead>\n",
              "  <tbody>\n",
              "    <tr>\n",
              "      <th>0</th>\n",
              "      <td>1</td>\n",
              "      <td>Toy Story (1995)</td>\n",
              "      <td>Adventure, Animation, Children, Comedy, Fantasy</td>\n",
              "    </tr>\n",
              "  </tbody>\n",
              "</table>\n",
              "</div>\n",
              "    <div class=\"colab-df-buttons\">\n",
              "\n",
              "  <div class=\"colab-df-container\">\n",
              "    <button class=\"colab-df-convert\" onclick=\"convertToInteractive('df-5fa977bd-76fc-4d0b-b341-620bd6b7c6c1')\"\n",
              "            title=\"Convert this dataframe to an interactive table.\"\n",
              "            style=\"display:none;\">\n",
              "\n",
              "  <svg xmlns=\"http://www.w3.org/2000/svg\" height=\"24px\" viewBox=\"0 -960 960 960\">\n",
              "    <path d=\"M120-120v-720h720v720H120Zm60-500h600v-160H180v160Zm220 220h160v-160H400v160Zm0 220h160v-160H400v160ZM180-400h160v-160H180v160Zm440 0h160v-160H620v160ZM180-180h160v-160H180v160Zm440 0h160v-160H620v160Z\"/>\n",
              "  </svg>\n",
              "    </button>\n",
              "\n",
              "  <style>\n",
              "    .colab-df-container {\n",
              "      display:flex;\n",
              "      gap: 12px;\n",
              "    }\n",
              "\n",
              "    .colab-df-convert {\n",
              "      background-color: #E8F0FE;\n",
              "      border: none;\n",
              "      border-radius: 50%;\n",
              "      cursor: pointer;\n",
              "      display: none;\n",
              "      fill: #1967D2;\n",
              "      height: 32px;\n",
              "      padding: 0 0 0 0;\n",
              "      width: 32px;\n",
              "    }\n",
              "\n",
              "    .colab-df-convert:hover {\n",
              "      background-color: #E2EBFA;\n",
              "      box-shadow: 0px 1px 2px rgba(60, 64, 67, 0.3), 0px 1px 3px 1px rgba(60, 64, 67, 0.15);\n",
              "      fill: #174EA6;\n",
              "    }\n",
              "\n",
              "    .colab-df-buttons div {\n",
              "      margin-bottom: 4px;\n",
              "    }\n",
              "\n",
              "    [theme=dark] .colab-df-convert {\n",
              "      background-color: #3B4455;\n",
              "      fill: #D2E3FC;\n",
              "    }\n",
              "\n",
              "    [theme=dark] .colab-df-convert:hover {\n",
              "      background-color: #434B5C;\n",
              "      box-shadow: 0px 1px 3px 1px rgba(0, 0, 0, 0.15);\n",
              "      filter: drop-shadow(0px 1px 2px rgba(0, 0, 0, 0.3));\n",
              "      fill: #FFFFFF;\n",
              "    }\n",
              "  </style>\n",
              "\n",
              "    <script>\n",
              "      const buttonEl =\n",
              "        document.querySelector('#df-5fa977bd-76fc-4d0b-b341-620bd6b7c6c1 button.colab-df-convert');\n",
              "      buttonEl.style.display =\n",
              "        google.colab.kernel.accessAllowed ? 'block' : 'none';\n",
              "\n",
              "      async function convertToInteractive(key) {\n",
              "        const element = document.querySelector('#df-5fa977bd-76fc-4d0b-b341-620bd6b7c6c1');\n",
              "        const dataTable =\n",
              "          await google.colab.kernel.invokeFunction('convertToInteractive',\n",
              "                                                    [key], {});\n",
              "        if (!dataTable) return;\n",
              "\n",
              "        const docLinkHtml = 'Like what you see? Visit the ' +\n",
              "          '<a target=\"_blank\" href=https://colab.research.google.com/notebooks/data_table.ipynb>data table notebook</a>'\n",
              "          + ' to learn more about interactive tables.';\n",
              "        element.innerHTML = '';\n",
              "        dataTable['output_type'] = 'display_data';\n",
              "        await google.colab.output.renderOutput(dataTable, element);\n",
              "        const docLink = document.createElement('div');\n",
              "        docLink.innerHTML = docLinkHtml;\n",
              "        element.appendChild(docLink);\n",
              "      }\n",
              "    </script>\n",
              "  </div>\n",
              "\n",
              "\n",
              "    </div>\n",
              "  </div>\n"
            ],
            "application/vnd.google.colaboratory.intrinsic+json": {
              "type": "dataframe",
              "summary": "{\n  \"name\": \"data[data\",\n  \"rows\": 1,\n  \"fields\": [\n    {\n      \"column\": \"id\",\n      \"properties\": {\n        \"dtype\": \"number\",\n        \"std\": null,\n        \"min\": 1,\n        \"max\": 1,\n        \"num_unique_values\": 1,\n        \"samples\": [\n          1\n        ],\n        \"semantic_type\": \"\",\n        \"description\": \"\"\n      }\n    },\n    {\n      \"column\": \"movies_title\",\n      \"properties\": {\n        \"dtype\": \"string\",\n        \"num_unique_values\": 1,\n        \"samples\": [\n          \"Toy Story (1995)\"\n        ],\n        \"semantic_type\": \"\",\n        \"description\": \"\"\n      }\n    },\n    {\n      \"column\": \"genres\",\n      \"properties\": {\n        \"dtype\": \"string\",\n        \"num_unique_values\": 1,\n        \"samples\": [\n          \"Adventure, Animation, Children, Comedy, Fantasy\"\n        ],\n        \"semantic_type\": \"\",\n        \"description\": \"\"\n      }\n    }\n  ]\n}"
            }
          },
          "metadata": {},
          "execution_count": 37
        }
      ]
    },
    {
      "cell_type": "markdown",
      "source": [
        "**Output:** menunjukkan tabel dengan judul film `Toy Story (1995)` dengan genre `Adventure, Animation, Children, Comedy, Fantasy`."
      ],
      "metadata": {
        "id": "MhHpMHZOi2p0"
      }
    },
    {
      "cell_type": "markdown",
      "source": [
        "Mendapatkan movie recommendation dengan memanggil fungsi `movies_recommendation`."
      ],
      "metadata": {
        "id": "H_HAU3Z8jAR6"
      }
    },
    {
      "cell_type": "code",
      "source": [
        "movies_recommendations('Toy Story (1995)')"
      ],
      "metadata": {
        "colab": {
          "base_uri": "https://localhost:8080/",
          "height": 206
        },
        "id": "CVFy9QgZYcI8",
        "outputId": "e50422bd-5a60-4033-f495-6a17ad091416"
      },
      "execution_count": 38,
      "outputs": [
        {
          "output_type": "execute_result",
          "data": {
            "text/plain": [
              "                        movies_title  \\\n",
              "0                   Space Jam (1996)   \n",
              "1             Pagemaster, The (1994)   \n",
              "2     Kids of the Round Table (1995)   \n",
              "3  NeverEnding Story III, The (1994)   \n",
              "4                     Jumanji (1995)   \n",
              "\n",
              "                                              genres  \n",
              "0  Adventure, Animation, Children, Comedy, Fantas...  \n",
              "1    Action, Adventure, Animation, Children, Fantasy  \n",
              "2               Adventure, Children, Comedy, Fantasy  \n",
              "3                       Adventure, Children, Fantasy  \n",
              "4                       Adventure, Children, Fantasy  "
            ],
            "text/html": [
              "\n",
              "  <div id=\"df-a2ac7934-7564-42b4-b022-f71b09e0acc4\" class=\"colab-df-container\">\n",
              "    <div>\n",
              "<style scoped>\n",
              "    .dataframe tbody tr th:only-of-type {\n",
              "        vertical-align: middle;\n",
              "    }\n",
              "\n",
              "    .dataframe tbody tr th {\n",
              "        vertical-align: top;\n",
              "    }\n",
              "\n",
              "    .dataframe thead th {\n",
              "        text-align: right;\n",
              "    }\n",
              "</style>\n",
              "<table border=\"1\" class=\"dataframe\">\n",
              "  <thead>\n",
              "    <tr style=\"text-align: right;\">\n",
              "      <th></th>\n",
              "      <th>movies_title</th>\n",
              "      <th>genres</th>\n",
              "    </tr>\n",
              "  </thead>\n",
              "  <tbody>\n",
              "    <tr>\n",
              "      <th>0</th>\n",
              "      <td>Space Jam (1996)</td>\n",
              "      <td>Adventure, Animation, Children, Comedy, Fantas...</td>\n",
              "    </tr>\n",
              "    <tr>\n",
              "      <th>1</th>\n",
              "      <td>Pagemaster, The (1994)</td>\n",
              "      <td>Action, Adventure, Animation, Children, Fantasy</td>\n",
              "    </tr>\n",
              "    <tr>\n",
              "      <th>2</th>\n",
              "      <td>Kids of the Round Table (1995)</td>\n",
              "      <td>Adventure, Children, Comedy, Fantasy</td>\n",
              "    </tr>\n",
              "    <tr>\n",
              "      <th>3</th>\n",
              "      <td>NeverEnding Story III, The (1994)</td>\n",
              "      <td>Adventure, Children, Fantasy</td>\n",
              "    </tr>\n",
              "    <tr>\n",
              "      <th>4</th>\n",
              "      <td>Jumanji (1995)</td>\n",
              "      <td>Adventure, Children, Fantasy</td>\n",
              "    </tr>\n",
              "  </tbody>\n",
              "</table>\n",
              "</div>\n",
              "    <div class=\"colab-df-buttons\">\n",
              "\n",
              "  <div class=\"colab-df-container\">\n",
              "    <button class=\"colab-df-convert\" onclick=\"convertToInteractive('df-a2ac7934-7564-42b4-b022-f71b09e0acc4')\"\n",
              "            title=\"Convert this dataframe to an interactive table.\"\n",
              "            style=\"display:none;\">\n",
              "\n",
              "  <svg xmlns=\"http://www.w3.org/2000/svg\" height=\"24px\" viewBox=\"0 -960 960 960\">\n",
              "    <path d=\"M120-120v-720h720v720H120Zm60-500h600v-160H180v160Zm220 220h160v-160H400v160Zm0 220h160v-160H400v160ZM180-400h160v-160H180v160Zm440 0h160v-160H620v160ZM180-180h160v-160H180v160Zm440 0h160v-160H620v160Z\"/>\n",
              "  </svg>\n",
              "    </button>\n",
              "\n",
              "  <style>\n",
              "    .colab-df-container {\n",
              "      display:flex;\n",
              "      gap: 12px;\n",
              "    }\n",
              "\n",
              "    .colab-df-convert {\n",
              "      background-color: #E8F0FE;\n",
              "      border: none;\n",
              "      border-radius: 50%;\n",
              "      cursor: pointer;\n",
              "      display: none;\n",
              "      fill: #1967D2;\n",
              "      height: 32px;\n",
              "      padding: 0 0 0 0;\n",
              "      width: 32px;\n",
              "    }\n",
              "\n",
              "    .colab-df-convert:hover {\n",
              "      background-color: #E2EBFA;\n",
              "      box-shadow: 0px 1px 2px rgba(60, 64, 67, 0.3), 0px 1px 3px 1px rgba(60, 64, 67, 0.15);\n",
              "      fill: #174EA6;\n",
              "    }\n",
              "\n",
              "    .colab-df-buttons div {\n",
              "      margin-bottom: 4px;\n",
              "    }\n",
              "\n",
              "    [theme=dark] .colab-df-convert {\n",
              "      background-color: #3B4455;\n",
              "      fill: #D2E3FC;\n",
              "    }\n",
              "\n",
              "    [theme=dark] .colab-df-convert:hover {\n",
              "      background-color: #434B5C;\n",
              "      box-shadow: 0px 1px 3px 1px rgba(0, 0, 0, 0.15);\n",
              "      filter: drop-shadow(0px 1px 2px rgba(0, 0, 0, 0.3));\n",
              "      fill: #FFFFFF;\n",
              "    }\n",
              "  </style>\n",
              "\n",
              "    <script>\n",
              "      const buttonEl =\n",
              "        document.querySelector('#df-a2ac7934-7564-42b4-b022-f71b09e0acc4 button.colab-df-convert');\n",
              "      buttonEl.style.display =\n",
              "        google.colab.kernel.accessAllowed ? 'block' : 'none';\n",
              "\n",
              "      async function convertToInteractive(key) {\n",
              "        const element = document.querySelector('#df-a2ac7934-7564-42b4-b022-f71b09e0acc4');\n",
              "        const dataTable =\n",
              "          await google.colab.kernel.invokeFunction('convertToInteractive',\n",
              "                                                    [key], {});\n",
              "        if (!dataTable) return;\n",
              "\n",
              "        const docLinkHtml = 'Like what you see? Visit the ' +\n",
              "          '<a target=\"_blank\" href=https://colab.research.google.com/notebooks/data_table.ipynb>data table notebook</a>'\n",
              "          + ' to learn more about interactive tables.';\n",
              "        element.innerHTML = '';\n",
              "        dataTable['output_type'] = 'display_data';\n",
              "        await google.colab.output.renderOutput(dataTable, element);\n",
              "        const docLink = document.createElement('div');\n",
              "        docLink.innerHTML = docLinkHtml;\n",
              "        element.appendChild(docLink);\n",
              "      }\n",
              "    </script>\n",
              "  </div>\n",
              "\n",
              "\n",
              "    <div id=\"df-95d1df67-309a-4a5a-add8-988141a9e4ec\">\n",
              "      <button class=\"colab-df-quickchart\" onclick=\"quickchart('df-95d1df67-309a-4a5a-add8-988141a9e4ec')\"\n",
              "                title=\"Suggest charts\"\n",
              "                style=\"display:none;\">\n",
              "\n",
              "<svg xmlns=\"http://www.w3.org/2000/svg\" height=\"24px\"viewBox=\"0 0 24 24\"\n",
              "     width=\"24px\">\n",
              "    <g>\n",
              "        <path d=\"M19 3H5c-1.1 0-2 .9-2 2v14c0 1.1.9 2 2 2h14c1.1 0 2-.9 2-2V5c0-1.1-.9-2-2-2zM9 17H7v-7h2v7zm4 0h-2V7h2v10zm4 0h-2v-4h2v4z\"/>\n",
              "    </g>\n",
              "</svg>\n",
              "      </button>\n",
              "\n",
              "<style>\n",
              "  .colab-df-quickchart {\n",
              "      --bg-color: #E8F0FE;\n",
              "      --fill-color: #1967D2;\n",
              "      --hover-bg-color: #E2EBFA;\n",
              "      --hover-fill-color: #174EA6;\n",
              "      --disabled-fill-color: #AAA;\n",
              "      --disabled-bg-color: #DDD;\n",
              "  }\n",
              "\n",
              "  [theme=dark] .colab-df-quickchart {\n",
              "      --bg-color: #3B4455;\n",
              "      --fill-color: #D2E3FC;\n",
              "      --hover-bg-color: #434B5C;\n",
              "      --hover-fill-color: #FFFFFF;\n",
              "      --disabled-bg-color: #3B4455;\n",
              "      --disabled-fill-color: #666;\n",
              "  }\n",
              "\n",
              "  .colab-df-quickchart {\n",
              "    background-color: var(--bg-color);\n",
              "    border: none;\n",
              "    border-radius: 50%;\n",
              "    cursor: pointer;\n",
              "    display: none;\n",
              "    fill: var(--fill-color);\n",
              "    height: 32px;\n",
              "    padding: 0;\n",
              "    width: 32px;\n",
              "  }\n",
              "\n",
              "  .colab-df-quickchart:hover {\n",
              "    background-color: var(--hover-bg-color);\n",
              "    box-shadow: 0 1px 2px rgba(60, 64, 67, 0.3), 0 1px 3px 1px rgba(60, 64, 67, 0.15);\n",
              "    fill: var(--button-hover-fill-color);\n",
              "  }\n",
              "\n",
              "  .colab-df-quickchart-complete:disabled,\n",
              "  .colab-df-quickchart-complete:disabled:hover {\n",
              "    background-color: var(--disabled-bg-color);\n",
              "    fill: var(--disabled-fill-color);\n",
              "    box-shadow: none;\n",
              "  }\n",
              "\n",
              "  .colab-df-spinner {\n",
              "    border: 2px solid var(--fill-color);\n",
              "    border-color: transparent;\n",
              "    border-bottom-color: var(--fill-color);\n",
              "    animation:\n",
              "      spin 1s steps(1) infinite;\n",
              "  }\n",
              "\n",
              "  @keyframes spin {\n",
              "    0% {\n",
              "      border-color: transparent;\n",
              "      border-bottom-color: var(--fill-color);\n",
              "      border-left-color: var(--fill-color);\n",
              "    }\n",
              "    20% {\n",
              "      border-color: transparent;\n",
              "      border-left-color: var(--fill-color);\n",
              "      border-top-color: var(--fill-color);\n",
              "    }\n",
              "    30% {\n",
              "      border-color: transparent;\n",
              "      border-left-color: var(--fill-color);\n",
              "      border-top-color: var(--fill-color);\n",
              "      border-right-color: var(--fill-color);\n",
              "    }\n",
              "    40% {\n",
              "      border-color: transparent;\n",
              "      border-right-color: var(--fill-color);\n",
              "      border-top-color: var(--fill-color);\n",
              "    }\n",
              "    60% {\n",
              "      border-color: transparent;\n",
              "      border-right-color: var(--fill-color);\n",
              "    }\n",
              "    80% {\n",
              "      border-color: transparent;\n",
              "      border-right-color: var(--fill-color);\n",
              "      border-bottom-color: var(--fill-color);\n",
              "    }\n",
              "    90% {\n",
              "      border-color: transparent;\n",
              "      border-bottom-color: var(--fill-color);\n",
              "    }\n",
              "  }\n",
              "</style>\n",
              "\n",
              "      <script>\n",
              "        async function quickchart(key) {\n",
              "          const quickchartButtonEl =\n",
              "            document.querySelector('#' + key + ' button');\n",
              "          quickchartButtonEl.disabled = true;  // To prevent multiple clicks.\n",
              "          quickchartButtonEl.classList.add('colab-df-spinner');\n",
              "          try {\n",
              "            const charts = await google.colab.kernel.invokeFunction(\n",
              "                'suggestCharts', [key], {});\n",
              "          } catch (error) {\n",
              "            console.error('Error during call to suggestCharts:', error);\n",
              "          }\n",
              "          quickchartButtonEl.classList.remove('colab-df-spinner');\n",
              "          quickchartButtonEl.classList.add('colab-df-quickchart-complete');\n",
              "        }\n",
              "        (() => {\n",
              "          let quickchartButtonEl =\n",
              "            document.querySelector('#df-95d1df67-309a-4a5a-add8-988141a9e4ec button');\n",
              "          quickchartButtonEl.style.display =\n",
              "            google.colab.kernel.accessAllowed ? 'block' : 'none';\n",
              "        })();\n",
              "      </script>\n",
              "    </div>\n",
              "\n",
              "    </div>\n",
              "  </div>\n"
            ],
            "application/vnd.google.colaboratory.intrinsic+json": {
              "type": "dataframe",
              "summary": "{\n  \"name\": \"movies_recommendations('Toy Story (1995)')\",\n  \"rows\": 5,\n  \"fields\": [\n    {\n      \"column\": \"movies_title\",\n      \"properties\": {\n        \"dtype\": \"string\",\n        \"num_unique_values\": 5,\n        \"samples\": [\n          \"Pagemaster, The (1994)\",\n          \"Jumanji (1995)\",\n          \"Kids of the Round Table (1995)\"\n        ],\n        \"semantic_type\": \"\",\n        \"description\": \"\"\n      }\n    },\n    {\n      \"column\": \"genres\",\n      \"properties\": {\n        \"dtype\": \"string\",\n        \"num_unique_values\": 4,\n        \"samples\": [\n          \"Action, Adventure, Animation, Children, Fantasy\",\n          \"Adventure, Children, Fantasy\",\n          \"Adventure, Animation, Children, Comedy, Fantasy, SciFi\"\n        ],\n        \"semantic_type\": \"\",\n        \"description\": \"\"\n      }\n    }\n  ]\n}"
            }
          },
          "metadata": {},
          "execution_count": 38
        }
      ]
    },
    {
      "cell_type": "markdown",
      "source": [
        "**Output:** memberikan rekomendasi 5 nama film dengan kategori `genres` yaitu Action, Adventure, Animation, Children, Comedy, dan Fantasy."
      ],
      "metadata": {
        "id": "CGPZ0R0XjQI0"
      }
    },
    {
      "cell_type": "markdown",
      "source": [
        "## Evaluation\n",
        "Tahap ini untuk melakukan proses evaluasi denggan menggunakan perhitungan akurasi."
      ],
      "metadata": {
        "id": "5WHa8vHWH9Z-"
      }
    },
    {
      "cell_type": "markdown",
      "source": [
        "Proses evaluasi ini menggunakan precision@k untuk mengukur kesamaan item pada hasil rekomendasi teratas atau k rekomendasi menggunakan fungsi `def precision_at_k_movies`."
      ],
      "metadata": {
        "id": "hPuardxmg88B"
      }
    },
    {
      "cell_type": "code",
      "source": [
        "def precision_at_k_movies(movie_title, k=5):\n",
        "    recommendation = movies_recommendations(movie_title, k=k)\n",
        "    k_recommendation = recommendation['movies_title'].tolist()\n",
        "    relevant_count = len([title for title in k_recommendation if title in data['movies_title'].values])\n",
        "    precision = relevant_count / k\n",
        "    return precision"
      ],
      "metadata": {
        "id": "v3G5gRo1Q0wk"
      },
      "execution_count": null,
      "outputs": []
    },
    {
      "cell_type": "markdown",
      "source": [
        "Melakukan print hasil akurasi dari precision@k dari judul film Toy Story (1995) berdasarkan k=5."
      ],
      "metadata": {
        "id": "lXpHs6F1hRP0"
      }
    },
    {
      "cell_type": "code",
      "source": [
        "print(precision_at_k_movies('Toy Story (1995)', k=5))"
      ],
      "metadata": {
        "id": "3pHuaob2b-4j"
      },
      "execution_count": null,
      "outputs": []
    },
    {
      "cell_type": "markdown",
      "source": [
        "**Output:** sistem berhasil enunjukkan bahwa 5 film hasil rekomendasi teratas memiliki genre yang mirip dengan film Toy Story (1995) di mana dapat dilihat pada hasil akurasi precision@k yang memiliki nilai 1.0."
      ],
      "metadata": {
        "id": "Ru4dBTd8hbO-"
      }
    }
  ]
}